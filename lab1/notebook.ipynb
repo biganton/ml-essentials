{
 "cells": [
  {
   "cell_type": "markdown",
   "metadata": {},
   "source": [
    "# Modele liniowe"
   ]
  },
  {
   "cell_type": "code",
   "metadata": {
    "ExecuteTime": {
     "end_time": "2025-04-10T23:32:00.102881Z",
     "start_time": "2025-04-10T23:32:00.100848Z"
    }
   },
   "source": [
    "import matplotlib.pyplot as plt\n",
    "import numpy as np\n",
    "import pandas as pd"
   ],
   "outputs": [],
   "execution_count": 44
  },
  {
   "cell_type": "markdown",
   "metadata": {},
   "source": [
    "Na początek ustawimy globalnie opcję `set_output` ze Scikit-learn'a ([dokumentacja](https://scikit-learn.org/stable/auto_examples/miscellaneous/plot_set_output.html)). Dzięki temu transformowane dane będą zawsze na wyjściu typu `pd.DataFrame`, zamiast `np.ndarray`, i zachowają odpowiednie nazwy cech."
   ]
  },
  {
   "cell_type": "code",
   "metadata": {
    "ExecuteTime": {
     "end_time": "2025-04-10T23:32:00.718220Z",
     "start_time": "2025-04-10T23:32:00.715687Z"
    }
   },
   "source": [
    "import sklearn\n",
    "\n",
    "sklearn.set_config(transform_output=\"pandas\")"
   ],
   "outputs": [],
   "execution_count": 45
  },
  {
   "cell_type": "markdown",
   "metadata": {},
   "source": [
    "## Przewidywanie cen domów"
   ]
  },
  {
   "cell_type": "markdown",
   "metadata": {},
   "source": [
    "Wykorzystamy zbiór danych [Ames housing](https://www.openintro.org/book/statdata/?data=ames), w którym zadaniem jest przewidywanie wartości domu na podstawie cech budynku, działki, lokalizacji itp. Jest to więc przewidywanie wartości ciągłej, czyli regresja. Obejmuje zmienne do usunięcia (np. ID transakcji), numeryczne (floaty i inty), kategoryczne nieuporządkowane (*categorical nominal*) oraz kategoryczne uporządkowane (*categorical ordinal*), więc będzie wymagał wstępnego przetworzenia tak jak większość prawdziwych danych w ML.\n",
    "\n",
    "Inne znane, ale gorsze jakościowo zbiory tego typu to na przykład:\n",
    "- Boston housing - rasistowski, z tego powodu usunięty np. ze Scikit-learn ([wyjaśnienie](https://fairlearn.org/main/user_guide/datasets/boston_housing_data.html), [dyskusja](https://github.com/quantumblacklabs/causalnex/issues/92), [badanie](https://medium.com/@docintangible/racist-data-destruction-113e3eff54a8))\n",
    "- California housing - zbyt prosty (tylko kilka zmiennych numerycznych), użyty np. w książce \"Hands-On Machine Learning with Scikit-Learn, Keras, and TensorFlow\" A. Geron ([opis](https://inria.github.io/scikit-learn-mooc/python_scripts/datasets_california_housing.html))\n",
    "\n",
    "Autor zbioru to Dean De Cock, a zbiór został opisany oryginalnie w [tym artykule](https://jse.amstat.org/v19n3/decock.pdf). Szczegółowe opisy zmiennych znajdują się w pliku `ames_description.txt`.\n",
    "\n",
    "Formatem pliku jest **Apache Parquet**, bardzo wydajny format binarny. Ma on szereg zalet w ML i inżynierii danych porównaniu do plików CSV:\n",
    "- zapisuje informacje o typie kolumn\n",
    "- jednoznaczna specyfikacja (np. brak problemów z typem separatora, jak w CSV)\n",
    "- kompresja liczb, napisów etc. w oparciu o ich typ\n",
    "- znacznie mniejszy rozmiar plików, zwykle kilka razy\n",
    "- dużo większa szybkość zapisu i odczytu\n",
    "\n",
    "Dla zainteresowanych szczegółami: [link 1](https://www.databricks.com/glossary/what-is-parquet#:~:text=Apache%20Parquet%20is%20an%20open,handle%20complex%20data%20in%20bulk.), [link 2](https://data-mozart.com/parquet-file-format-everything-you-need-to-know/), [link 3](https://learncsdesigns.medium.com/understanding-apache-parquet-d722645cfe74). Ten format ma szerokie wsparcie, w tym w Pandasie. W przypadku tego zbioru, CSV zajmuje ~1.2 MB, a Parquet ~0.2 MB."
   ]
  },
  {
   "cell_type": "code",
   "metadata": {
    "ExecuteTime": {
     "end_time": "2025-04-10T23:32:01.356578Z",
     "start_time": "2025-04-10T23:32:01.343535Z"
    }
   },
   "source": [
    "df = pd.read_parquet(\"ames_data.parquet\")\n",
    "\n",
    "# remove dots from names to match data_description.txt\n",
    "df.columns = [col.replace(\".\", \"\") for col in df.columns]\n",
    "\n",
    "df.head()"
   ],
   "outputs": [
    {
     "data": {
      "text/plain": [
       "   Order        PID  MSSubClass MSZoning  LotFrontage  LotArea Street Alley  \\\n",
       "0      1  526301100          20       RL        141.0    31770   Pave  None   \n",
       "1      2  526350040          20       RH         80.0    11622   Pave  None   \n",
       "2      3  526351010          20       RL         81.0    14267   Pave  None   \n",
       "3      4  526353030          20       RL         93.0    11160   Pave  None   \n",
       "4      5  527105010          60       RL         74.0    13830   Pave  None   \n",
       "\n",
       "  LotShape LandContour  ... PoolArea PoolQC  Fence MiscFeature MiscVal MoSold  \\\n",
       "0      IR1         Lvl  ...        0   None   None        None       0      5   \n",
       "1      Reg         Lvl  ...        0   None  MnPrv        None       0      6   \n",
       "2      IR1         Lvl  ...        0   None   None        Gar2   12500      6   \n",
       "3      Reg         Lvl  ...        0   None   None        None       0      4   \n",
       "4      IR1         Lvl  ...        0   None  MnPrv        None       0      3   \n",
       "\n",
       "  YrSold SaleType  SaleCondition  SalePrice  \n",
       "0   2010      WD          Normal     215000  \n",
       "1   2010      WD          Normal     105000  \n",
       "2   2010      WD          Normal     172000  \n",
       "3   2010      WD          Normal     244000  \n",
       "4   2010      WD          Normal     189900  \n",
       "\n",
       "[5 rows x 82 columns]"
      ],
      "text/html": [
       "<div>\n",
       "<style scoped>\n",
       "    .dataframe tbody tr th:only-of-type {\n",
       "        vertical-align: middle;\n",
       "    }\n",
       "\n",
       "    .dataframe tbody tr th {\n",
       "        vertical-align: top;\n",
       "    }\n",
       "\n",
       "    .dataframe thead th {\n",
       "        text-align: right;\n",
       "    }\n",
       "</style>\n",
       "<table border=\"1\" class=\"dataframe\">\n",
       "  <thead>\n",
       "    <tr style=\"text-align: right;\">\n",
       "      <th></th>\n",
       "      <th>Order</th>\n",
       "      <th>PID</th>\n",
       "      <th>MSSubClass</th>\n",
       "      <th>MSZoning</th>\n",
       "      <th>LotFrontage</th>\n",
       "      <th>LotArea</th>\n",
       "      <th>Street</th>\n",
       "      <th>Alley</th>\n",
       "      <th>LotShape</th>\n",
       "      <th>LandContour</th>\n",
       "      <th>...</th>\n",
       "      <th>PoolArea</th>\n",
       "      <th>PoolQC</th>\n",
       "      <th>Fence</th>\n",
       "      <th>MiscFeature</th>\n",
       "      <th>MiscVal</th>\n",
       "      <th>MoSold</th>\n",
       "      <th>YrSold</th>\n",
       "      <th>SaleType</th>\n",
       "      <th>SaleCondition</th>\n",
       "      <th>SalePrice</th>\n",
       "    </tr>\n",
       "  </thead>\n",
       "  <tbody>\n",
       "    <tr>\n",
       "      <th>0</th>\n",
       "      <td>1</td>\n",
       "      <td>526301100</td>\n",
       "      <td>20</td>\n",
       "      <td>RL</td>\n",
       "      <td>141.0</td>\n",
       "      <td>31770</td>\n",
       "      <td>Pave</td>\n",
       "      <td>None</td>\n",
       "      <td>IR1</td>\n",
       "      <td>Lvl</td>\n",
       "      <td>...</td>\n",
       "      <td>0</td>\n",
       "      <td>None</td>\n",
       "      <td>None</td>\n",
       "      <td>None</td>\n",
       "      <td>0</td>\n",
       "      <td>5</td>\n",
       "      <td>2010</td>\n",
       "      <td>WD</td>\n",
       "      <td>Normal</td>\n",
       "      <td>215000</td>\n",
       "    </tr>\n",
       "    <tr>\n",
       "      <th>1</th>\n",
       "      <td>2</td>\n",
       "      <td>526350040</td>\n",
       "      <td>20</td>\n",
       "      <td>RH</td>\n",
       "      <td>80.0</td>\n",
       "      <td>11622</td>\n",
       "      <td>Pave</td>\n",
       "      <td>None</td>\n",
       "      <td>Reg</td>\n",
       "      <td>Lvl</td>\n",
       "      <td>...</td>\n",
       "      <td>0</td>\n",
       "      <td>None</td>\n",
       "      <td>MnPrv</td>\n",
       "      <td>None</td>\n",
       "      <td>0</td>\n",
       "      <td>6</td>\n",
       "      <td>2010</td>\n",
       "      <td>WD</td>\n",
       "      <td>Normal</td>\n",
       "      <td>105000</td>\n",
       "    </tr>\n",
       "    <tr>\n",
       "      <th>2</th>\n",
       "      <td>3</td>\n",
       "      <td>526351010</td>\n",
       "      <td>20</td>\n",
       "      <td>RL</td>\n",
       "      <td>81.0</td>\n",
       "      <td>14267</td>\n",
       "      <td>Pave</td>\n",
       "      <td>None</td>\n",
       "      <td>IR1</td>\n",
       "      <td>Lvl</td>\n",
       "      <td>...</td>\n",
       "      <td>0</td>\n",
       "      <td>None</td>\n",
       "      <td>None</td>\n",
       "      <td>Gar2</td>\n",
       "      <td>12500</td>\n",
       "      <td>6</td>\n",
       "      <td>2010</td>\n",
       "      <td>WD</td>\n",
       "      <td>Normal</td>\n",
       "      <td>172000</td>\n",
       "    </tr>\n",
       "    <tr>\n",
       "      <th>3</th>\n",
       "      <td>4</td>\n",
       "      <td>526353030</td>\n",
       "      <td>20</td>\n",
       "      <td>RL</td>\n",
       "      <td>93.0</td>\n",
       "      <td>11160</td>\n",
       "      <td>Pave</td>\n",
       "      <td>None</td>\n",
       "      <td>Reg</td>\n",
       "      <td>Lvl</td>\n",
       "      <td>...</td>\n",
       "      <td>0</td>\n",
       "      <td>None</td>\n",
       "      <td>None</td>\n",
       "      <td>None</td>\n",
       "      <td>0</td>\n",
       "      <td>4</td>\n",
       "      <td>2010</td>\n",
       "      <td>WD</td>\n",
       "      <td>Normal</td>\n",
       "      <td>244000</td>\n",
       "    </tr>\n",
       "    <tr>\n",
       "      <th>4</th>\n",
       "      <td>5</td>\n",
       "      <td>527105010</td>\n",
       "      <td>60</td>\n",
       "      <td>RL</td>\n",
       "      <td>74.0</td>\n",
       "      <td>13830</td>\n",
       "      <td>Pave</td>\n",
       "      <td>None</td>\n",
       "      <td>IR1</td>\n",
       "      <td>Lvl</td>\n",
       "      <td>...</td>\n",
       "      <td>0</td>\n",
       "      <td>None</td>\n",
       "      <td>MnPrv</td>\n",
       "      <td>None</td>\n",
       "      <td>0</td>\n",
       "      <td>3</td>\n",
       "      <td>2010</td>\n",
       "      <td>WD</td>\n",
       "      <td>Normal</td>\n",
       "      <td>189900</td>\n",
       "    </tr>\n",
       "  </tbody>\n",
       "</table>\n",
       "<p>5 rows × 82 columns</p>\n",
       "</div>"
      ]
     },
     "execution_count": 46,
     "metadata": {},
     "output_type": "execute_result"
    }
   ],
   "execution_count": 46
  },
  {
   "cell_type": "code",
   "metadata": {
    "ExecuteTime": {
     "end_time": "2025-04-10T23:32:01.568799Z",
     "start_time": "2025-04-10T23:32:01.565633Z"
    }
   },
   "source": [
    "df.shape"
   ],
   "outputs": [
    {
     "data": {
      "text/plain": [
       "(2930, 82)"
      ]
     },
     "execution_count": 47,
     "metadata": {},
     "output_type": "execute_result"
    }
   ],
   "execution_count": 47
  },
  {
   "cell_type": "markdown",
   "metadata": {},
   "source": [
    "## Eksploracja danych, czyszczenie danych i inżynieria cech"
   ]
  },
  {
   "cell_type": "markdown",
   "metadata": {},
   "source": [
    "Wstępne czyszczenie danych (*data cleaning*) obejmuje:\n",
    "- usunięcie kolumn `Order` oraz `PID`\n",
    "- usunięcie obserwacji odstających (*outliers*), które mają powyżej 4000 stóp kwadratowych (ok. 370 metrów kwadratowych) powierzchni\n",
    "- usunięcie wpisów z dzielnic `GrnHill` oraz `Landmrk`, które obejmują w sumie zaledwie 3 domy\n",
    "- transformacja logarytmiczna zmiennej zależnej (ceny domu)\n",
    "\n",
    "To drugie jest motywowane wykresem przedstawionym poniżej. Zostało uznane za błąd już przez samego autora."
   ]
  },
  {
   "cell_type": "code",
   "metadata": {
    "ExecuteTime": {
     "end_time": "2025-04-10T23:32:02.264115Z",
     "start_time": "2025-04-10T23:32:02.172839Z"
    }
   },
   "source": [
    "df = df.drop([\"Order\", \"PID\"], axis=\"columns\")\n",
    "df = df.loc[~df[\"Neighborhood\"].isin([\"GrnHill\", \"Landmrk\"]), :]\n",
    "\n",
    "plt.scatter(df[\"GrLivArea\"], df[\"SalePrice\"])\n",
    "plt.title(\"House area vs price\")\n",
    "plt.xlabel(\"GrLivArea\")\n",
    "plt.ylabel(\"SalePrice\")\n",
    "plt.show()\n",
    "\n",
    "df = df.loc[df[\"GrLivArea\"] <= 4000, :]\n",
    "\n",
    "plt.scatter(df[\"GrLivArea\"], df[\"SalePrice\"])\n",
    "plt.title(\"House area vs price, outliers removed\")\n",
    "plt.xlabel(\"GrLivArea\")\n",
    "plt.ylabel(\"SalePrice\")\n",
    "plt.show()"
   ],
   "outputs": [
    {
     "data": {
      "text/plain": [
       "<Figure size 640x480 with 1 Axes>"
      ],
      "image/png": "[encoded data removed]"
     },
     "metadata": {},
     "output_type": "display_data"
    },
    {
     "data": {
      "text/plain": [
       "<Figure size 640x480 with 1 Axes>"
      ],
      "image/png": "[encoded data removed]"
     },
     "metadata": {},
     "output_type": "display_data"
    }
   ],
   "execution_count": 48
  },
  {
   "cell_type": "markdown",
   "metadata": {},
   "source": [
    "Zawsze warto też przyjrzeć się rozkładowi zmiennej docelowej, żeby poznać jego typ i skalę. Jak widać poniżej, rozkład jest dość skośny, co ma sens - mało jest bardzo drogich domów. Można to zatem uznać za problem **regresji niezbalansowanej (imbalanced regression)**, w którym rozkład zmiennej docelowej nie jest normalny.\n",
    "\n",
    "Załóżmy, że typowego klienta nie interesują bardzo drogie domy. Cały ciężki ogon rozkładu można zatem uznać zasadniczo za outliery - im większa wartość, tym mniej interesuje przeciętną osobę. Warto też pamiętać, że realny \"przeciętny\" dochód to mediana, a nie średnia zarobków, co odpowiednio przekłada się na zainteresowanie domami.\n",
    "\n",
    "W tym przypadku warto przetransformować tę zmienną logarytmem bliżej rozkładu normalnego z dwóch powodów.\n",
    "\n",
    "Po pierwsze, stabilność numeryczna - wartości są bardzo duże, rzędu setek tysięcy, i przy obliczaniu odchylenia standardowego czy wariancji to byłby problem. Logarytm to przykład **transformacji stabilizującej wariancję (variance-stabilizing transform)**.\n",
    "\n",
    "Ponadto regresja liniowa (pierwszy model liniowy, który będziemy rozważać) czyni szereg założeń w modelowaniu, co wynika z jej podstaw statystycznych. Są to między innymi:\n",
    "1. **Normalność błędów (residuals normality)** - błędy modelu, czyli $y - \\hat{y}$, mają rozkład normalny\n",
    "2. **Homoskedastyczność (homoscedasticity)** - błędy mają stałą wariancję, czyli nie zależą od wielkości zmiennej zależnej\n",
    "\n",
    "W naszym przypadku oznacza to, że podobnie często nie doceniamy albo przeceniamy wartość domu, oraz dla tanich i drogich domów mamy podobny błąd. Przy rozkładzie zmiennej zależnej bardzo różnym od normalnego te założenia są typowo łamane, co skutkuje gorszą jakością predykcji modelu. Dlatego transformacji warto też dokonać dla lepszej jakości modelu.\n",
    "\n",
    "Skąd wiemy, że logarytm? Bo rozkłady o dodaniej skośności (positively skewed) przesuwa się \"w prawo\" właśnie logarytmem, a w drugą stronę eksponentą. Dla zainteresowanych: [link 1](https://www.biostathandbook.com/transformation.html), [link 2](https://bookdown.org/dereksonderegger/571/8-LogTransformations-Chapter.html). Są też algorytmy, które potrafią same estymować potrzebną transformację, np. **Box-Cox transform** albo **Yeo-Johnson transform**. Podobne transformacje można też oczywiście wykonywać nie tylko dla zmiennej zależnej, ale też (a nawet jest to częstsze) dla cech.\n",
    "\n",
    "**Zadanie 1 (1 punkt)**\n",
    "\n",
    "1. Narysuj wykres cen - histogram kolumny `\"SalePrice\"`. Pamiętaj o podaniu tytułu i dodaniu legendy.\n",
    "2. Oblicz średnią i medianę cen, a następnie nanieś je na wykres jako pionowe, przerywane linie. Może się przydać [ten przykład](https://stackoverflow.com/a/57046310/9472066). Wypisz te wartości, lub zawrzyj je w opisie w legendzie, zaokrąglone do liczb całkowitych.\n",
    "3. Zlogarytmuj ceny z pomocą `np.log1p` (zamień istniejące wartości).\n",
    "4. Narysuj wykres po zlogarytmowaniu, razem z liniami dla średniej i mediany.\n",
    "\n",
    "Może ci się przydać metoda `.plot.hist()` dla `pd.Series`. Zwraca ona normalny wykres Matplotliba, do którego można potem dodawać kolejne elementy."
   ]
  },
  {
   "cell_type": "code",
   "metadata": {
    "ExecuteTime": {
     "end_time": "2025-04-10T23:32:02.645132Z",
     "start_time": "2025-04-10T23:32:02.601963Z"
    }
   },
   "source": [
    "def plot_histogram(series: pd.Series, title: str) -> None:\n",
    "    series_mean = series.mean()\n",
    "    series_median = series.median()\n",
    "\n",
    "    hist = series.plot.hist()\n",
    "\n",
    "    hist.axvline(\n",
    "        series_mean, color=\"r\", linestyle=\"--\", label=f\"Mean: {series_mean:.0f}\"\n",
    "    )\n",
    "    hist.axvline(\n",
    "        series_median, color=\"g\", linestyle=\"--\", label=f\"Mean: {series_median:.0f}\"\n",
    "    )\n",
    "\n",
    "    hist.legend()\n",
    "\n",
    "    plt.show()\n",
    "    \n",
    "plot_histogram(df[\"SalePrice\"], \"Sale price\")\n"
   ],
   "outputs": [
    {
     "data": {
      "text/plain": [
       "<Figure size 640x480 with 1 Axes>"
      ],
      "image/png": "[encoded data removed]"
     },
     "metadata": {},
     "output_type": "display_data"
    }
   ],
   "execution_count": 49
  },
  {
   "metadata": {
    "ExecuteTime": {
     "end_time": "2025-04-10T23:32:02.936180Z",
     "start_time": "2025-04-10T23:32:02.888273Z"
    }
   },
   "cell_type": "code",
   "source": [
    "df[\"SalePrice\"] = np.log1p(df[\"SalePrice\"])\n",
    "plot_histogram(df[\"SalePrice\"], \"Sale price (log)\")"
   ],
   "outputs": [
    {
     "data": {
      "text/plain": [
       "<Figure size 640x480 with 1 Axes>"
      ],
      "image/png": "[encoded data removed]"
     },
     "metadata": {},
     "output_type": "display_data"
    }
   ],
   "execution_count": 50
  },
  {
   "cell_type": "markdown",
   "metadata": {},
   "source": [
    "W zbiorze znajdują się liczne wartości brakujące, które zostały uzupełnione na podstawie [tego notebooka na Kaggle](https://www.kaggle.com/code/juliencs/a-study-on-regression-applied-to-the-ames-dataset)."
   ]
  },
  {
   "cell_type": "code",
   "metadata": {
    "ExecuteTime": {
     "end_time": "2025-04-10T23:32:03.352875Z",
     "start_time": "2025-04-10T23:32:03.335200Z"
    }
   },
   "source": [
    "def replace_na(df: pd.DataFrame, col: str, value) -> None:\n",
    "    df.loc[:, col] = df.loc[:, col].fillna(value)\n",
    "\n",
    "\n",
    "# Alley : data description says NA means \"no alley access\"\n",
    "replace_na(df, \"Alley\", value=\"None\")\n",
    "\n",
    "# BedroomAbvGr : NA most likely means 0\n",
    "replace_na(df, \"BedroomAbvGr\", value=0)\n",
    "\n",
    "# BsmtQual etc : data description says NA for basement features is \"no basement\"\n",
    "replace_na(df, \"BsmtQual\", value=\"No\")\n",
    "replace_na(df, \"BsmtCond\", value=\"No\")\n",
    "replace_na(df, \"BsmtExposure\", value=\"No\")\n",
    "replace_na(df, \"BsmtFinType1\", value=\"No\")\n",
    "replace_na(df, \"BsmtFinType2\", value=\"No\")\n",
    "replace_na(df, \"BsmtFullBath\", value=0)\n",
    "replace_na(df, \"BsmtHalfBath\", value=0)\n",
    "replace_na(df, \"BsmtUnfSF\", value=0)\n",
    "\n",
    "# Condition : NA most likely means Normal\n",
    "replace_na(df, \"Condition1\", value=\"Norm\")\n",
    "replace_na(df, \"Condition2\", value=\"Norm\")\n",
    "\n",
    "# External stuff : NA most likely means average\n",
    "replace_na(df, \"ExterCond\", value=\"TA\")\n",
    "replace_na(df, \"ExterQual\", value=\"TA\")\n",
    "\n",
    "# Fence : data description says NA means \"no fence\"\n",
    "replace_na(df, \"Fence\", value=\"No\")\n",
    "\n",
    "# Functional : data description says NA means typical\n",
    "replace_na(df, \"Functional\", value=\"Typ\")\n",
    "\n",
    "# GarageType etc : data description says NA for garage features is \"no garage\"\n",
    "replace_na(df, \"GarageType\", value=\"No\")\n",
    "replace_na(df, \"GarageFinish\", value=\"No\")\n",
    "replace_na(df, \"GarageQual\", value=\"No\")\n",
    "replace_na(df, \"GarageCond\", value=\"No\")\n",
    "replace_na(df, \"GarageArea\", value=0)\n",
    "replace_na(df, \"GarageCars\", value=0)\n",
    "\n",
    "# HalfBath : NA most likely means no half baths above grade\n",
    "replace_na(df, \"HalfBath\", value=0)\n",
    "\n",
    "# HeatingQC : NA most likely means typical\n",
    "replace_na(df, \"HeatingQC\", value=\"Ta\")\n",
    "\n",
    "# KitchenAbvGr : NA most likely means 0\n",
    "replace_na(df, \"KitchenAbvGr\", value=0)\n",
    "\n",
    "# KitchenQual : NA most likely means typical\n",
    "replace_na(df, \"KitchenQual\", value=\"TA\")\n",
    "\n",
    "# LotFrontage : NA most likely means no lot frontage\n",
    "replace_na(df, \"LotFrontage\", value=0)\n",
    "\n",
    "# LotShape : NA most likely means regular\n",
    "replace_na(df, \"LotShape\", value=\"Reg\")\n",
    "\n",
    "# MasVnrType : NA most likely means no veneer\n",
    "replace_na(df, \"MasVnrType\", value=\"None\")\n",
    "replace_na(df, \"MasVnrArea\", value=0)\n",
    "\n",
    "# MiscFeature : data description says NA means \"no misc feature\"\n",
    "replace_na(df, \"MiscFeature\", value=\"No\")\n",
    "replace_na(df, \"MiscVal\", value=0)\n",
    "\n",
    "# OpenPorchSF : NA most likely means no open porch\n",
    "replace_na(df, \"OpenPorchSF\", value=0)\n",
    "\n",
    "# PavedDrive : NA most likely means not paved\n",
    "replace_na(df, \"PavedDrive\", value=\"N\")\n",
    "\n",
    "# PoolQC : data description says NA means \"no pool\"\n",
    "replace_na(df, \"PoolQC\", value=\"No\")\n",
    "replace_na(df, \"PoolArea\", value=0)\n",
    "\n",
    "# SaleCondition : NA most likely means normal sale\n",
    "replace_na(df, \"SaleCondition\", value=\"Normal\")\n",
    "\n",
    "# ScreenPorch : NA most likely means no screen porch\n",
    "replace_na(df, \"ScreenPorch\", value=0)\n",
    "\n",
    "# TotRmsAbvGrd : NA most likely means 0\n",
    "replace_na(df, \"TotRmsAbvGrd\", value=0)\n",
    "\n",
    "# Utilities : NA most likely means all public utilities\n",
    "replace_na(df, \"Utilities\", value=\"AllPub\")\n",
    "\n",
    "# WoodDeckSF : NA most likely means no wood deck\n",
    "replace_na(df, \"WoodDeckSF\", value=0)\n",
    "\n",
    "# CentralAir : NA most likely means No\n",
    "replace_na(df, \"CentralAir\", value=\"N\")\n",
    "\n",
    "# EnclosedPorch : NA most likely means no enclosed porch\n",
    "replace_na(df, \"EnclosedPorch\", value=0)\n",
    "\n",
    "# FireplaceQu : data description says NA means \"no fireplace\"\n",
    "replace_na(df, \"FireplaceQu\", value=\"No\")\n",
    "replace_na(df, \"Fireplaces\", value=0)\n",
    "\n",
    "# SaleCondition : NA most likely means normal sale\n",
    "replace_na(df, \"SaleCondition\", value=\"Normal\")\n",
    "\n",
    "# Electrical : NA most likely means standard circuit & breakers\n",
    "replace_na(df, \"Electrical\", value=\"SBrkr\")"
   ],
   "outputs": [],
   "execution_count": 51
  },
  {
   "cell_type": "markdown",
   "metadata": {},
   "source": [
    "W dalszej kolejności zamienimy zmienne `MSSubClass` i `MoSold` z numerycznych na kategoryczne, zgodnie z ich znaczeniem. Zakodujemy także zmienne kategoryczne uporządkowane (categorical ordinal) z tekstowych na kolejne liczby całkowite."
   ]
  },
  {
   "cell_type": "code",
   "metadata": {
    "scrolled": true,
    "ExecuteTime": {
     "end_time": "2025-04-10T23:32:04.303412Z",
     "start_time": "2025-04-10T23:32:04.297493Z"
    }
   },
   "source": [
    "df = df.replace(\n",
    "    {\n",
    "        \"MSSubClass\": {\n",
    "            20: \"SC20\",\n",
    "            30: \"SC30\",\n",
    "            40: \"SC40\",\n",
    "            45: \"SC45\",\n",
    "            50: \"SC50\",\n",
    "            60: \"SC60\",\n",
    "            70: \"SC70\",\n",
    "            75: \"SC75\",\n",
    "            80: \"SC80\",\n",
    "            85: \"SC85\",\n",
    "            90: \"SC90\",\n",
    "            120: \"SC120\",\n",
    "            150: \"SC150\",\n",
    "            160: \"SC160\",\n",
    "            180: \"SC180\",\n",
    "            190: \"SC190\",\n",
    "        },\n",
    "        \"MoSold\": {\n",
    "            1: \"Jan\",\n",
    "            2: \"Feb\",\n",
    "            3: \"Mar\",\n",
    "            4: \"Apr\",\n",
    "            5: \"May\",\n",
    "            6: \"Jun\",\n",
    "            7: \"Jul\",\n",
    "            8: \"Aug\",\n",
    "            9: \"Sep\",\n",
    "            10: \"Oct\",\n",
    "            11: \"Nov\",\n",
    "            12: \"Dec\",\n",
    "        },\n",
    "    }\n",
    ")"
   ],
   "outputs": [],
   "execution_count": 52
  },
  {
   "cell_type": "code",
   "metadata": {
    "ExecuteTime": {
     "end_time": "2025-04-10T23:32:04.691339Z",
     "start_time": "2025-04-10T23:32:04.665341Z"
    }
   },
   "source": [
    "df = df.replace(\n",
    "    {\n",
    "        \"Alley\": {\"None\": 0, \"Grvl\": 1, \"Pave\": 2},\n",
    "        \"BsmtCond\": {\"No\": 0, \"Po\": 1, \"Fa\": 2, \"TA\": 3, \"Gd\": 4, \"Ex\": 5},\n",
    "        \"BsmtExposure\": {\"No\": 0, \"Mn\": 1, \"Av\": 2, \"Gd\": 3},\n",
    "        \"BsmtFinType1\": {\n",
    "            \"No\": 0,\n",
    "            \"Unf\": 1,\n",
    "            \"LwQ\": 2,\n",
    "            \"Rec\": 3,\n",
    "            \"BLQ\": 4,\n",
    "            \"ALQ\": 5,\n",
    "            \"GLQ\": 6,\n",
    "        },\n",
    "        \"BsmtFinType2\": {\n",
    "            \"No\": 0,\n",
    "            \"Unf\": 1,\n",
    "            \"LwQ\": 2,\n",
    "            \"Rec\": 3,\n",
    "            \"BLQ\": 4,\n",
    "            \"ALQ\": 5,\n",
    "            \"GLQ\": 6,\n",
    "        },\n",
    "        \"BsmtQual\": {\"No\": 0, \"Po\": 1, \"Fa\": 2, \"TA\": 3, \"Gd\": 4, \"Ex\": 5},\n",
    "        \"ExterCond\": {\"Po\": 1, \"Fa\": 2, \"TA\": 3, \"Gd\": 4, \"Ex\": 5},\n",
    "        \"ExterQual\": {\"Po\": 1, \"Fa\": 2, \"TA\": 3, \"Gd\": 4, \"Ex\": 5},\n",
    "        \"FireplaceQu\": {\"No\": 0, \"Po\": 1, \"Fa\": 2, \"TA\": 3, \"Gd\": 4, \"Ex\": 5},\n",
    "        \"Functional\": {\n",
    "            \"Sal\": 1,\n",
    "            \"Sev\": 2,\n",
    "            \"Maj2\": 3,\n",
    "            \"Maj1\": 4,\n",
    "            \"Mod\": 5,\n",
    "            \"Min2\": 6,\n",
    "            \"Min1\": 7,\n",
    "            \"Typ\": 8,\n",
    "        },\n",
    "        \"GarageCond\": {\"No\": 0, \"Po\": 1, \"Fa\": 2, \"TA\": 3, \"Gd\": 4, \"Ex\": 5},\n",
    "        \"GarageQual\": {\"No\": 0, \"Po\": 1, \"Fa\": 2, \"TA\": 3, \"Gd\": 4, \"Ex\": 5},\n",
    "        \"HeatingQC\": {\"Po\": 1, \"Fa\": 2, \"TA\": 3, \"Gd\": 4, \"Ex\": 5},\n",
    "        \"KitchenQual\": {\"Po\": 1, \"Fa\": 2, \"TA\": 3, \"Gd\": 4, \"Ex\": 5},\n",
    "        \"LandSlope\": {\"Sev\": 1, \"Mod\": 2, \"Gtl\": 3},\n",
    "        \"LotShape\": {\"IR3\": 1, \"IR2\": 2, \"IR1\": 3, \"Reg\": 4},\n",
    "        \"PavedDrive\": {\"N\": 0, \"P\": 1, \"Y\": 2},\n",
    "        \"PoolQC\": {\"No\": 0, \"Fa\": 1, \"TA\": 2, \"Gd\": 3, \"Ex\": 4},\n",
    "        \"Street\": {\"Grvl\": 1, \"Pave\": 2},\n",
    "        \"Utilities\": {\"ELO\": 1, \"NoSeWa\": 2, \"NoSewr\": 3, \"AllPub\": 4},\n",
    "    }\n",
    ")"
   ],
   "outputs": [
    {
     "name": "stderr",
     "output_type": "stream",
     "text": [
      "/var/folders/l1/7bh364895gg8nssghh2l23dh0000gn/T/ipykernel_29663/4151304952.py:1: FutureWarning: Downcasting behavior in `replace` is deprecated and will be removed in a future version. To retain the old behavior, explicitly call `result.infer_objects(copy=False)`. To opt-in to the future behavior, set `pd.set_option('future.no_silent_downcasting', True)`\n",
      "  df = df.replace(\n"
     ]
    }
   ],
   "execution_count": 53
  },
  {
   "cell_type": "markdown",
   "metadata": {},
   "source": [
    "W Pandasie zmienne kategoryczne, napisy itp. są typu `object`, natomiast numeryczne mają typy z Numpy'a, np. `int64`. Oczywiście oba rodzaje zmiennych trzeba przetwarzać na inne sposoby, więc zapiszemy to od razu. Wyodrębnimy też wektor docelowy.\n",
    "\n",
    "Od razu dokonamy też podziału na zbiór treningowy i testowy. Jako że nasz zbiór jest dość mały, to podział będzie 70%-30%."
   ]
  },
  {
   "cell_type": "code",
   "metadata": {
    "ExecuteTime": {
     "end_time": "2025-04-10T23:32:06.962672Z",
     "start_time": "2025-04-10T23:32:06.950965Z"
    }
   },
   "source": [
    "from sklearn.model_selection import train_test_split\n",
    "\n",
    "y = df.pop(\"SalePrice\")\n",
    "\n",
    "categorical_features = df.select_dtypes(include=\"object\").columns\n",
    "numerical_features = df.select_dtypes(exclude=\"object\").columns\n",
    "\n",
    "X_train_raw, X_test_raw, y_train, y_test = train_test_split(\n",
    "    df, y, test_size=0.3, random_state=0\n",
    ")"
   ],
   "outputs": [],
   "execution_count": 54
  },
  {
   "cell_type": "markdown",
   "metadata": {},
   "source": [
    "## Analiza i przetwarzanie cech"
   ]
  },
  {
   "cell_type": "markdown",
   "metadata": {},
   "source": [
    "Modele liniowe działają najlepiej, kiedy nasze cechy są odpowiednio przetworzone:\n",
    "- nie może być wartości brakujących\n",
    "- wszystkie zmienne mają podobny zakres wartości\n",
    "- nie ma mocno skorelowanych ze sobą cech\n",
    "- zmienne kategoryczne muszą być zakodowane, przy czym dobrze jest, kiedy cech nie jest zbyt dużo\n",
    "\n",
    "Na start imputujemy wartości brakujące w zmiennych numerycznych i przeskalujemy je do zakresu $[0, 1]$. Potem dokonamy analizy, czy mamy mocno skorelowane zmienne.\n",
    "\n",
    "Przy przetwarzaniu danych krok po kroku lepiej robić nowe zmienne, żeby dało się odpalić znowu komórkę notebooka. Przy reużywaniu zmiennych mogłaby nastąpić konieczność uruchomienia wszystkiego od początku. Może ci się to przydać w zadaniach.\n",
    "\n",
    "Pamiętaj, żeby we wszystkich kolejnych zadaniach zastosować taką samą transformację na zbiorze treningowym i testowym. Wszelkie wartości estymujemy na zbiorze treningowym.\n",
    "\n",
    "**Zadanie 2 (0.5 punktu)**\n",
    "\n",
    "Wybierz same zmienne numeryczne. Dokonaj imputacji wartości brakujących medianą, oraz przeskaluj wartości do zakresu $[0, 1]$. Przydatne klasy: `ColumnTransformer`, `Pipeline`, `SimpleImputer`, `MinMaxScaler`.\n",
    "\n",
    "Domyślnie `ColumnTransformer` dopisuje do nazw cech wyjściowych nazwę transformera jako prefix. Bywa to dość nieczytelne i problematyczne w dalszym przetwarzaniu danych. Żeby to wyłączyć, przekaż opcję `verbose_feature_names_out=False`."
   ]
  },
  {
   "cell_type": "code",
   "metadata": {
    "ExecuteTime": {
     "end_time": "2025-04-10T23:32:10.319675Z",
     "start_time": "2025-04-10T23:32:10.301573Z"
    }
   },
   "source": [
    "from sklearn.pipeline import Pipeline\n",
    "from sklearn.impute import SimpleImputer\n",
    "from sklearn.preprocessing import MinMaxScaler\n",
    "from sklearn.compose import ColumnTransformer\n",
    "\n",
    "numeric_transformer = Pipeline(steps=[\n",
    "    (\"imputer\", SimpleImputer(strategy=\"median\")),\n",
    "    (\"scaler\", MinMaxScaler())\n",
    "])\n",
    "\n",
    "preprocessor = ColumnTransformer(\n",
    "    transformers=[\n",
    "        (\"num\", numeric_transformer, numerical_features)\n",
    "    ],\n",
    "    verbose_feature_names_out=False\n",
    ")\n",
    "\n",
    "X_train_num = preprocessor.fit_transform(X_train_raw)\n",
    "X_test_num = preprocessor.transform(X_test_raw)\n",
    "\n",
    "print(\"Kształt danych treningowych po transformacji:\", X_train_num.shape)\n",
    "print(\"Kształt danych testowych po transformacji:\", X_test_num.shape)\n"
   ],
   "outputs": [
    {
     "name": "stdout",
     "output_type": "stream",
     "text": [
      "Kształt danych treningowych po transformacji: (2045, 54)\n",
      "Kształt danych testowych po transformacji: (877, 54)\n"
     ]
    }
   ],
   "execution_count": 55
  },
  {
   "cell_type": "markdown",
   "metadata": {},
   "source": [
    "Sprawdźmy teraz, czy mamy mocno skorelowane zmienne. Typowo przyjmuje się wartość bezwzględną korelacji powyżej progu 0.8/0.9/0.95. Pierwszą weryfikację można zrobić \"na oko\" na podstawie wykresu typu heatmap. Przekątną oczywiście ignorujemy - każda cecha ma korelację 1.0 z samą sobą.\n",
    "\n",
    "Jeżeli zauważymy grupy skorelowanych cech, to z każdej grupy trzeba zostawić jedną cechę. Biblioteka Feature-engine, komplatybilna ze Scikie-learn, oferuje tutaj wygodną klasę `SmartCorrelatedSelection`, która pozwala z każdej grupy cech zostawić tę o największej wariancji.\n",
    "\n",
    "Czemu o największej wariancji? Bo taka cecha jest mocno zmienna, a więc niesie jakąś informację. Cechy o bardzo niskiej wariancji praktycznie się nie zmieniają, więc prawdopodobnie nie są zbyt informatywne.\n",
    "\n",
    "**Zadanie 3 (0.5 punktu)**\n",
    "\n",
    "Oblicz korelacje między cechami w zbiorze treningowym, oraz narysuj heatmapę korelacji. Pandas potrafi obliczyć korelacje, a Seaborn - narysować wygodnie heatmapę.\n",
    "\n",
    "Następnie wykorzystaj Feature-engine do eliminacji mocno skorelowanych cech, z progiem 0.8 (mamy sporo cech, więc eliminujmy, czemu nie), pozostawiając cechy o największej wariancji. Wypisz nazwy wyeliminowanych cech."
   ]
  },
  {
   "cell_type": "code",
   "metadata": {
    "ExecuteTime": {
     "end_time": "2025-04-10T23:36:41.294392Z",
     "start_time": "2025-04-10T23:36:41.096152Z"
    }
   },
   "source": [
    "import seaborn as sns\n",
    "import matplotlib.pyplot as plt\n",
    "\n",
    "corr_matrix = X_train_num.corr()\n",
    "\n",
    "plt.figure(figsize=(12, 10))\n",
    "sns.heatmap(corr_matrix, fmt=\".2f\", cmap=\"coolwarm\", square=True)\n",
    "plt.title(\"Heatmapa korelacji cech w zbiorze treningowym\")\n",
    "plt.show()\n",
    "\n",
    "from feature_engine.selection import SmartCorrelatedSelection\n",
    "\n",
    "scs = SmartCorrelatedSelection(variables=None, threshold = 0.8, selection_method=\"variance\")\n",
    "\n",
    "X_train_num_cor = scs.fit_transform(X_train_num)\n",
    "X_test_num_cor = scs.transform(X_test_num)\n",
    "\n",
    "print(\"Wyeliminowane cechy:\", scs.features_to_drop_)\n"
   ],
   "outputs": [
    {
     "data": {
      "text/plain": [
       "<Figure size 1200x1000 with 2 Axes>"
      ],
      "image/png": "[encoded data removed]"
     },
     "metadata": {},
     "output_type": "display_data"
    },
    {
     "name": "stdout",
     "output_type": "stream",
     "text": [
      "Wyeliminowane cechy: ['Fireplaces', 'GarageArea', 'BsmtFinSF2', 'TotRmsAbvGrd', 'GarageCond', 'PoolQC']\n"
     ]
    }
   ],
   "execution_count": 58
  },
  {
   "cell_type": "markdown",
   "metadata": {},
   "source": [
    "Przejdźmy teraz do zmiennych kategorycznych. Jeżeli pewne kategorie występują bardzo rzadko, to prawdopodobnie nie ma sensu ich rozróżniać, i można by je połączyć w jedną, np. \"Other\" albo \"Rare\". Eliminacja rzadkich kategorii bardzo zmniejszy wymiarowość po one-hot encodingu, redukując złożoność obliczeniową i pamięciową. Często robi się to nawet głównie z tego powodu, nawet jeżeli lekko pogorszy to wyniki (aczkolwiek często daje nieco lepsze).\n",
    "\n",
    "Po tym kroku możemy już wykonać one-hot encoding i uzyskać nasze zmienne kategoryczne.\n",
    "\n",
    "**Zadanie 4 (0.5 punktu)**\n",
    "\n",
    "Stwórz `ColumnTransformer`, wykonujący w pipeline'ie dla zmiennych kategorycznych (analogicznie jak w zadaniu 1 dla zmiennych numerycznych):\n",
    "- łączenie rzadkich kategorii (występujących w mniej niż 1% wierszy) w kategorię \"Rare\"\n",
    "- one-hot encoding\n",
    "\n",
    "Dla uniknięcia dummy variable trap, oraz zmniejszenia liczby wynikowych cech, podaj `drop=\"first\"` w one-hot encodingu.\n",
    "\n",
    "Przyda się `RareLabelEncoder` z Feature-engine. Żeby zadziałał dla każdej cechy, podaj mu `n_categories=0`."
   ]
  },
  {
   "cell_type": "code",
   "metadata": {
    "scrolled": true,
    "ExecuteTime": {
     "end_time": "2025-04-10T23:37:50.299408Z",
     "start_time": "2025-04-10T23:37:50.246759Z"
    }
   },
   "source": [
    "from sklearn.compose import ColumnTransformer\n",
    "from sklearn.pipeline import Pipeline\n",
    "from feature_engine.encoding import RareLabelEncoder\n",
    "from sklearn.preprocessing import OneHotEncoder\n",
    "\n",
    "categorical_pipeline = Pipeline(steps=[\n",
    "    (\"rare_encoder\", RareLabelEncoder(tol=0.01, n_categories=0, replace_with=\"Rare\")),\n",
    "    (\"one_hot\", OneHotEncoder(drop=\"first\", sparse_output=False))\n",
    "])\n",
    "\n",
    "ct_categorical = ColumnTransformer(\n",
    "    transformers=[\n",
    "        (\"cat_pipe\", categorical_pipeline, categorical_features)\n",
    "    ],\n",
    "    verbose_feature_names_out=False\n",
    ")\n",
    "\n",
    "X_train_cat_transformed = ct_categorical.fit_transform(X_train_raw)\n",
    "X_test_cat_transformed = ct_categorical.transform(X_test_raw)\n",
    "\n",
    "print(\"Kształt danych treningowych (kategorycznych):\", X_train_cat_transformed.shape)\n",
    "print(\"Kształt danych testowych (kategorycznych):\", X_test_cat_transformed.shape)\n"
   ],
   "outputs": [
    {
     "name": "stdout",
     "output_type": "stream",
     "text": [
      "Kształt danych treningowych (kategorycznych): (2045, 127)\n",
      "Kształt danych testowych (kategorycznych): (877, 127)\n"
     ]
    }
   ],
   "execution_count": 59
  },
  {
   "cell_type": "markdown",
   "metadata": {},
   "source": [
    "Teraz nasze cechy są w pełni przeprocesowane i gotowe do obliczeń. Trzeba je tylko połączyć - zmodyfikuj kod poniżej w zależności od nazw twoich zmiennych."
   ]
  },
  {
   "cell_type": "code",
   "metadata": {
    "ExecuteTime": {
     "end_time": "2025-04-10T23:40:36.761233Z",
     "start_time": "2025-04-10T23:40:36.756775Z"
    }
   },
   "source": [
    "X_train_num = pd.DataFrame( X_train_num_cor)\n",
    "X_test_num = pd.DataFrame(X_test_num_cor)\n",
    "\n",
    "X_train_cat = pd.DataFrame(X_train_cat_transformed)\n",
    "X_test_cat = pd.DataFrame(X_test_cat_transformed)\n",
    "\n",
    "X_train = pd.concat([X_train_num, X_train_cat], axis=1)\n",
    "X_test = pd.concat([X_test_num, X_test_cat], axis=1)"
   ],
   "outputs": [],
   "execution_count": 65
  },
  {
   "cell_type": "code",
   "metadata": {
    "ExecuteTime": {
     "end_time": "2025-04-10T23:40:37.062492Z",
     "start_time": "2025-04-10T23:40:37.059394Z"
    }
   },
   "source": [
    "X_train.shape"
   ],
   "outputs": [
    {
     "data": {
      "text/plain": [
       "(2045, 175)"
      ]
     },
     "execution_count": 66,
     "metadata": {},
     "output_type": "execute_result"
    }
   ],
   "execution_count": 66
  },
  {
   "cell_type": "markdown",
   "metadata": {},
   "source": [
    "## Regresja liniowa, ridge i LASSO"
   ]
  },
  {
   "cell_type": "markdown",
   "metadata": {},
   "source": [
    "Naszym baseline'owym modelem liniowym, do którego będziemy odnosić bardziej złożone modele, będzie zwykła **regresja liniowa (linear regression)**\n",
    "\n",
    "Naszymi metrykami będą zarówno **pierwiastek błędu średniokwadratowego (root mean squared error, RMSE)**, jak i **średni błąd bezwzględny (mean absolute error)**. Oba są w tej samej jednostce, co oryginalna zmienna zależna, ale skupiają się na innych rzeczach:\n",
    "- RMSE bardziej uwzględni predykcje w ogonie, czyli drogie domy\n",
    "- MAE bardziej skupi się na przeciętnym przypadku, czyli cenach bliżej mediany\n",
    "\n",
    "W praktyce często interesuje nas kilka metryk, a mamy dużo modeli do sprawdzanie. Żeby nie kopiować kodu, warto zrobić funkcję, obliczającą i wypisującą metryki dla danego problemu. Dodatkowo tutaj musimy odwrócić logarytm, który zastosowaliśmy na początku, i takie odwrotne przekształcenia też dobrze jest zawrzeć w takiej funkcji."
   ]
  },
  {
   "cell_type": "code",
   "metadata": {
    "ExecuteTime": {
     "end_time": "2025-04-10T23:40:39.678407Z",
     "start_time": "2025-04-10T23:40:39.675828Z"
    }
   },
   "source": [
    "from sklearn.metrics import root_mean_squared_error, mean_absolute_error\n",
    "\n",
    "\n",
    "def evaluate_model(\n",
    "    y_train: np.ndarray,\n",
    "    y_test: np.ndarray,\n",
    "    y_pred_train: np.ndarray,\n",
    "    y_pred_test: np.ndarray,\n",
    ") -> None:\n",
    "    y_train = np.expm1(y_train)\n",
    "    y_test = np.expm1(y_test)\n",
    "\n",
    "    y_pred_train = np.expm1(y_pred_train)\n",
    "    y_pred_test = np.expm1(y_pred_test)\n",
    "\n",
    "    rmse_train = root_mean_squared_error(y_train, y_pred_train)\n",
    "    mae_train = mean_absolute_error(y_train, y_pred_train)\n",
    "\n",
    "    rmse_test = root_mean_squared_error(y_test, y_pred_test)\n",
    "    mae_test = mean_absolute_error(y_test, y_pred_test)\n",
    "\n",
    "    print(f\"Train RMSE {rmse_train:.2f}, MAE: {mae_train:.2f}\")\n",
    "    print(f\"Test  RMSE {rmse_test:.2f}, MAE: {mae_test:.2f}\")"
   ],
   "outputs": [],
   "execution_count": 67
  },
  {
   "cell_type": "markdown",
   "metadata": {},
   "source": [
    "Jesteśmy teraz gotowi na trening naszych modeli. Na start wytrenujmy zwykłą regresję liniową."
   ]
  },
  {
   "cell_type": "code",
   "metadata": {
    "scrolled": true,
    "ExecuteTime": {
     "end_time": "2025-04-10T23:40:41.852281Z",
     "start_time": "2025-04-10T23:40:41.824198Z"
    }
   },
   "source": [
    "from sklearn.linear_model import LinearRegression\n",
    "\n",
    "reg_linear = LinearRegression()\n",
    "reg_linear.fit(X_train, y_train)\n",
    "\n",
    "y_pred_train = reg_linear.predict(X_train)\n",
    "y_pred_test = reg_linear.predict(X_test)\n",
    "evaluate_model(y_train, y_test, y_pred_train, y_pred_test)"
   ],
   "outputs": [
    {
     "name": "stdout",
     "output_type": "stream",
     "text": [
      "Train RMSE 17643.38, MAE: 12163.00\n",
      "Test  RMSE 18695.21, MAE: 13107.66\n"
     ]
    }
   ],
   "execution_count": 68
  },
  {
   "cell_type": "markdown",
   "metadata": {},
   "source": [
    "Całkiem nieźle. Dla porównania, bez usuwania skorelowanych cech i grupowania rzadkich cech, RMSE na zbiorze testowym to ponad 21 tysięcy, a model wyraźnie przeucza. Warto wykonywać odpowiedni preprocessing danych!\n",
    "\n",
    "Mamy tu wyraźną różnicę między RMSE i MAE. Można się temu przyjrzeć i przeanalizować rozkład **rezyduów (residuals)**, czyli błędów $y - \\hat{y}$.\n",
    "\n",
    "**Zadanie 5 (0.5 punktu)**\n",
    "\n",
    "Narysuj rozkład błędów popełnianych przez model regresji liniowej. Pamiętaj o odwróceniu logarytmu eksponentą (`np.expm1`). Dobierz liczbę binów histogramu tak, żeby wykres był odpowiednio czytelny. Zaznacz liniami pionowymi średnią oraz medianę. Pamiętaj o opisaniu osi Y, legendzie i tytule.\n",
    "\n",
    "Skomentuj rozkład. Jest symetryczny? Może częściej nie doceniamy wartości domu, albo ją przeceniamy, albo może są tu jakiejś pojedyncze outliery? Czy na podstawie tych rezyduów można wytłumaczyć różnicę między MAE i RMSE?"
   ]
  },
  {
   "metadata": {
    "ExecuteTime": {
     "end_time": "2025-04-10T23:40:50.587562Z",
     "start_time": "2025-04-10T23:40:50.561360Z"
    }
   },
   "cell_type": "code",
   "source": [
    "from sklearn.linear_model import LinearRegression\n",
    "\n",
    "linreg = LinearRegression()\n",
    "\n",
    "linreg.fit(X_train, y_train)\n",
    "\n",
    "y_pred_log = linreg.predict(X_test)\n"
   ],
   "outputs": [],
   "execution_count": 69
  },
  {
   "cell_type": "code",
   "metadata": {
    "ExecuteTime": {
     "end_time": "2025-04-10T23:40:58.580403Z",
     "start_time": "2025-04-10T23:40:58.511158Z"
    }
   },
   "source": [
    "import numpy as np\n",
    "import matplotlib.pyplot as plt\n",
    "\n",
    "y_test_orig = np.expm1(y_test)\n",
    "y_pred_orig = np.expm1(y_pred_log)\n",
    "\n",
    "residuals = y_test_orig - y_pred_orig\n",
    "\n",
    "mean_residual = np.mean(residuals)\n",
    "median_residual = np.median(residuals)\n",
    "\n",
    "plt.figure(figsize=(10, 6))\n",
    "plt.hist(residuals, bins=50, color='skyblue', edgecolor='black', alpha=0.7, label=\"Rozkład rezyduów\")\n",
    "plt.axvline(mean_residual, color='red', linestyle='--', linewidth=2, label=f\"Średnia: {mean_residual:.2f}\")\n",
    "plt.axvline(median_residual, color='green', linestyle='--', linewidth=2, label=f\"Mediana: {median_residual:.2f}\")\n",
    "plt.title(\"Histogram rezyduów modelu regresji liniowej\")\n",
    "plt.xlabel(\"Błąd (y - ŷ)\")\n",
    "plt.ylabel(\"Liczba obserwacji\")\n",
    "plt.legend()\n",
    "plt.show()\n"
   ],
   "outputs": [
    {
     "data": {
      "text/plain": [
       "<Figure size 1000x600 with 1 Axes>"
      ],
      "image/png": "[encoded data removed]"
     },
     "metadata": {},
     "output_type": "display_data"
    }
   ],
   "execution_count": 70
  },
  {
   "cell_type": "markdown",
   "metadata": {},
   "source": "Symetryczny rozkład"
  },
  {
   "cell_type": "markdown",
   "metadata": {},
   "source": [
    "Mamy pewien overfitting - co prawda niewielki, ale zawsze jest coś do wyeliminowania. Dodatkowo mamy aż 175 cech - jeżeli niektóre z nich mają bardzo niską moc predykcyjną, to redukcja ich wag (lub ich usunięcie) może poprawić nawet i wynik treningowy, i testowy, bo zredukuje szum.\n",
    "\n",
    "Warto każdy model zapisywać w zmiennej o innej nazwie, żeby później móc dokonać ich porównania. Przykładowo, `reg_linear` czy `reg_ridge` jest lepszym pomysłem niż samo `reg`.\n",
    "\n",
    "Typowo siłę regularyzacji wybiera się tak, że najpierw szacujemy rząd wielkości, sprawdzając np. siatkę `[1e-3, 1e-2, 1e-1, 1, 1e1, 1e2, 1e3]`, a później zagęszczając ją w okolicy znalezionej optymalnej wartości. Można to oczywiście robić w kilku krokach.\n",
    "\n",
    "**Zadanie 6 (1 punkt)**\n",
    "\n",
    "Wytrenuj modele z regularyzacją L2 (ridge) oraz L1 (LASSO). Dobierz siłę regularyzacji, najpierw estymując rząd wielkości, a potem zagęszczając siatkę. Dla regresji ridge wybieraj model o optymalnym MAE (argument `scoring`). Zmierz czas tuningu podczas drugiego kroku, po zagęszczeniu siatki.\n",
    "\n",
    "Wypisz optymalne hiperparametry dla obu modeli, oraz ich metryki jakości.\n",
    "\n",
    "Przydadzą się `np.linspace()`, `RidgeCV` oraz `LassoCV`."
   ]
  },
  {
   "cell_type": "code",
   "metadata": {
    "ExecuteTime": {
     "end_time": "2025-04-10T23:52:51.661717Z",
     "start_time": "2025-04-10T23:52:51.396458Z"
    }
   },
   "source": [
    "import numpy as np\n",
    "import time\n",
    "from sklearn.linear_model import RidgeCV, LassoCV\n",
    "from sklearn.metrics import mean_absolute_error, mean_squared_error\n",
    "\n",
    "alphas_coarse = [1e-3, 1e-2, 1e-1, 1, 1e1, 1e2, 1e3]\n",
    "ridge_cv = RidgeCV(alphas=alphas_coarse, scoring='neg_mean_absolute_error')\n",
    "ridge_cv.fit(X_train, y_train)\n",
    "best_alpha_coarse = ridge_cv.alpha_\n",
    "print(\"Wyniki wstępne:\")\n",
    "print(\"Ridge, optymalny alpha:\", best_alpha_coarse)\n",
    "\n",
    "lasso_cv = LassoCV(alphas=alphas_coarse, random_state=0, cv=5, n_jobs=-1)\n",
    "lasso_cv.fit(X_train, y_train)\n",
    "best_alpha_coarse = lasso_cv.alpha_\n",
    "print(\"Lasso, optymalny alpha:\", best_alpha_coarse)\n",
    "\n",
    "alphas_dense = np.linspace(0.1 * best_alpha_coarse, 10 * best_alpha_coarse, 100)\n",
    "\n",
    "start_time = time.time()\n",
    "ridge_cv_dense = RidgeCV(alphas=alphas_dense, scoring='neg_mean_absolute_error')\n",
    "ridge_cv_dense.fit(X_train, y_train)\n",
    "ridge_tuning_time = time.time() - start_time\n",
    "\n",
    "best_alpha_ridge = ridge_cv_dense.alpha_\n",
    "print(\"Ridge - dense grid, optymalny alpha:\", best_alpha_ridge)\n",
    "print(\"Czas tuningu RidgeCV (zagęszczona siatka): {:.4f} sekund\".format(ridge_tuning_time))\n",
    "\n",
    "start_time = time.time()\n",
    "lasso_cv_dense = LassoCV(alphas=alphas_dense, cv=5, random_state=0)\n",
    "lasso_cv_dense.fit(X_train, y_train)\n",
    "lasso_tuning_time = time.time() - start_time\n",
    "\n",
    "best_alpha_lasso = lasso_cv_dense.alpha_\n",
    "print(\"Lasso - dense grid, optymalny alpha:\", best_alpha_lasso)\n",
    "print(\"Czas tuningu LassoCV (zagęszczona siatka): {:.4f} sekund\".format(ridge_tuning_time))\n",
    "\n",
    "\n",
    "y_pred_ridge_log = ridge_cv_dense.predict(X_test)\n",
    "y_pred_ridge = np.expm1(y_pred_ridge_log) \n",
    "y_test_orig = np.expm1(y_test)\n",
    "\n",
    "ridge_mae = mean_absolute_error(y_test_orig, y_pred_ridge)\n",
    "ridge_rmse = np.sqrt(mean_squared_error(y_test_orig, y_pred_ridge))\n",
    "\n",
    "print(\"Ridge - MAE: {:.2f}, RMSE: {:.2f}\".format(ridge_mae, ridge_rmse))\n",
    "\n",
    "y_pred_lasso_log = lasso_cv_dense.predict(X_test)\n",
    "y_pred_lasso = np.expm1(y_pred_lasso_log)\n",
    "lasso_mae = mean_absolute_error(y_test_orig, y_pred_lasso)\n",
    "lasso_rmse = np.sqrt(mean_squared_error(y_test_orig, y_pred_lasso))\n",
    "\n",
    "print(\"Lasso - MAE: {:.2f}, RMSE: {:.2f}\".format(lasso_mae, lasso_rmse))\n"
   ],
   "outputs": [
    {
     "name": "stdout",
     "output_type": "stream",
     "text": [
      "Wyniki wstępne:\n",
      "Ridge, optymalny alpha: 1.0\n",
      "Lasso, optymalny alpha: 0.001\n",
      "Ridge - dense grid, optymalny alpha: 0.01\n",
      "Czas tuningu RidgeCV (zagęszczona siatka): 0.0856 sekund\n",
      "Lasso - dense grid, optymalny alpha: 0.0002\n",
      "Czas tuningu LassoCV (zagęszczona siatka): 0.0856 sekund\n",
      "Ridge - MAE: 13104.71, RMSE: 18690.15\n",
      "Lasso - MAE: 12943.16, RMSE: 18501.69\n"
     ]
    }
   ],
   "execution_count": 72
  },
  {
   "cell_type": "markdown",
   "metadata": {},
   "source": [
    "Dużą zaletą modeli liniowych jest możliwość analizy ważności cech oraz ich kierunku wpływu. W przypadku regresji z regularyzacją jest to szczególnie ciekawe.\n",
    "\n",
    "Jeżeli cecha \"przetrwa\" z dużą wagą w ridge regression, to znaczy, że musi być naprawdę ważna, bo inaczej opłacałoby się zmniejszyć jej wagę, żeby zmniejszyć koszt z regularyzacji. Z drugiej strony, w regresji LASSO jeżeli cecha została wyeliminowana, to musiała mieć na tyle małą moc predykcyjną, że modelowi bardziej opłacało się ją usunąć i zmniejszyć koszt z regularyzacji.\n",
    "\n",
    "**Zadanie 7 (0.5 punktu)**\n",
    "\n",
    "W tym zadaniu skorzystaj z optymalnych modeli, wyznaczonych w poprzednim zadaniu.\n",
    "\n",
    "1. Wybierz 20 najważniejszych cech według ridge regression (w sensie wartości bezwzględnej ich wag). Przedstaw je na poziomym wykresie słupkowym (horizontal bar plot), posortowane według wartości bezwzględnej. Na wykresie mają być wartości wag z wpływem (dodatni/ujemny). Pamiętaj o opisaniu osi nazwami cech i tytule wykresu.\n",
    "2. Wypisz nazwy cech wyeliminowanych przez LASSO regression, posortowane alfabetycznie. Zakładamy, że cecha jest wyeliminowana, jeżeli dla `np.isclose()` jej waga jest bliska zeru.\n",
    "\n",
    "Mogą się przydać atrybuty modelu `.coef_` oraz `.feature_names_in_`. Wszystkie operacje można łatwo wykonać, konwertując dane na `pd.Series`."
   ]
  },
  {
   "cell_type": "code",
   "metadata": {
    "ExecuteTime": {
     "end_time": "2025-04-10T23:58:56.696299Z",
     "start_time": "2025-04-10T23:58:56.618351Z"
    }
   },
   "source": [
    "import numpy as np\n",
    "import pandas as pd\n",
    "import matplotlib.pyplot as plt\n",
    "\n",
    "coef_series_ridge = pd.Series(ridge_cv_dense.coef_, index=ridge_cv_dense.feature_names_in_)\n",
    "\n",
    "top20_features = coef_series_ridge.abs().nlargest(20).index\n",
    "\n",
    "top20_coef = coef_series_ridge[top20_features].sort_values()\n",
    "\n",
    "plt.figure(figsize=(10,8))\n",
    "top20_coef.plot(kind='barh', color='skyblue', edgecolor='black')\n",
    "plt.xlabel(\"Waga cechy\")\n",
    "plt.ylabel(\"Nazwa cechy\")\n",
    "plt.title(\"Top 20 najważniejszych cech wg Ridge Regression\")\n",
    "plt.show()\n",
    "\n",
    "coef_series_lasso = pd.Series(lasso_cv_dense.coef_, index=lasso_cv_dense.feature_names_in_)\n",
    "\n",
    "eliminated_mask = np.isclose(coef_series_lasso, 0)\n",
    "eliminated_features = coef_series_lasso.index[eliminated_mask]\n",
    "\n",
    "print(\"Cechy wyeliminowane przez LASSO (posortowane alfabetycznie):\")\n",
    "for feature in eliminated_features:\n",
    "    print(feature)\n"
   ],
   "outputs": [
    {
     "data": {
      "text/plain": [
       "<Figure size 1000x800 with 1 Axes>"
      ],
      "image/png": "[encoded data removed]"
     },
     "metadata": {},
     "output_type": "display_data"
    },
    {
     "name": "stdout",
     "output_type": "stream",
     "text": [
      "Cechy wyeliminowane przez LASSO (posortowane alfabetycznie):\n",
      "Street\n",
      "Alley\n",
      "Utilities\n",
      "BsmtCond\n",
      "BsmtUnfSF\n",
      "X2ndFlrSF\n",
      "LowQualFinSF\n",
      "BsmtHalfBath\n",
      "KitchenAbvGr\n",
      "X3SsnPorch\n",
      "PoolArea\n",
      "MiscVal\n",
      "MSSubClass_SC120\n",
      "MSSubClass_SC190\n",
      "MSSubClass_SC60\n",
      "MSSubClass_SC80\n",
      "LandContour_Lvl\n",
      "LotConfig_Rare\n",
      "Neighborhood_BrDale\n",
      "Neighborhood_Mitchel\n",
      "Neighborhood_NAmes\n",
      "Neighborhood_SWISU\n",
      "Neighborhood_Sawyer\n",
      "Neighborhood_Timber\n",
      "Condition1_Feedr\n",
      "Condition1_RRAe\n",
      "Condition1_RRAn\n",
      "Condition2_Rare\n",
      "BldgType_2fmCon\n",
      "HouseStyle_1Story\n",
      "HouseStyle_2Story\n",
      "HouseStyle_SFoyer\n",
      "Exterior1st_CemntBd\n",
      "Exterior1st_HdBoard\n",
      "Exterior1st_MetalSd\n",
      "Exterior1st_Plywood\n",
      "Exterior1st_VinylSd\n",
      "Exterior1st_WdShing\n",
      "Exterior2nd_VinylSd\n",
      "Exterior2nd_Wd Shng\n",
      "Foundation_Rare\n",
      "Foundation_Slab\n",
      "Electrical_Rare\n",
      "GarageType_Basment\n",
      "GarageType_BuiltIn\n",
      "GarageType_No\n",
      "GarageFinish_No\n",
      "Fence_No\n",
      "Fence_Rare\n",
      "MiscFeature_Rare\n",
      "MiscFeature_Shed\n",
      "MoSold_Dec\n",
      "MoSold_Mar\n",
      "MoSold_Oct\n",
      "SaleType_WD \n"
     ]
    }
   ],
   "execution_count": 74
  },
  {
   "cell_type": "markdown",
   "metadata": {},
   "source": [
    "## Robust regression"
   ]
  },
  {
   "cell_type": "markdown",
   "metadata": {},
   "source": [
    "Powyższe algorytmy nie brały pod uwagę skośnego rozkładu zmiennej zależnej, oraz realnego zapotrzebowania na medianę ceny domu. Wypróbujmy zatem algorytmy, które powinny być bardziej odporne na outliery.\n",
    "\n",
    "Na start wypróbujemy Least Absolute Deviations (LAD) regression. Jako że jest to przypadek szczególny regresji kwantylowej, to w Scikit-learn używa się do tego klasy `QuantileRegressor` z podaniem odpowiedniego kwantyla."
   ]
  },
  {
   "cell_type": "code",
   "metadata": {
    "ExecuteTime": {
     "end_time": "2025-04-10T23:59:52.869811Z",
     "start_time": "2025-04-10T23:59:46.720387Z"
    }
   },
   "source": [
    "from sklearn.linear_model import QuantileRegressor\n",
    "\n",
    "reg_lad = QuantileRegressor(quantile=0.5)\n",
    "reg_lad.fit(X_train, y_train)\n",
    "\n",
    "y_pred_train = reg_lad.predict(X_train)\n",
    "y_pred_test = reg_lad.predict(X_test)\n",
    "evaluate_model(y_train, y_test, y_pred_train, y_pred_test)"
   ],
   "outputs": [
    {
     "name": "stdout",
     "output_type": "stream",
     "text": [
      "Train RMSE 80520.69, MAE: 55705.73\n",
      "Test  RMSE 80920.80, MAE: 55734.18\n"
     ]
    }
   ],
   "execution_count": 75
  },
  {
   "cell_type": "markdown",
   "metadata": {},
   "source": [
    "Błąd jest wręcz tragiczny! W takich przypadkach zawsze na start trzeba się przyjrzeć predykcjom."
   ]
  },
  {
   "cell_type": "code",
   "metadata": {
    "ExecuteTime": {
     "end_time": "2025-04-10T23:59:59.179415Z",
     "start_time": "2025-04-10T23:59:59.176763Z"
    }
   },
   "source": [
    "y_pred_test[:30]"
   ],
   "outputs": [
    {
     "data": {
      "text/plain": [
       "array([11.99535779, 11.99535779, 11.99535779, 11.99535779, 11.99535779,\n",
       "       11.99535779, 11.99535779, 11.99535779, 11.99535779, 11.99535779,\n",
       "       11.99535779, 11.99535779, 11.99535779, 11.99535779, 11.99535779,\n",
       "       11.99535779, 11.99535779, 11.99535779, 11.99535779, 11.99535779,\n",
       "       11.99535779, 11.99535779, 11.99535779, 11.99535779, 11.99535779,\n",
       "       11.99535779, 11.99535779, 11.99535779, 11.99535779, 11.99535779])"
      ]
     },
     "execution_count": 76,
     "metadata": {},
     "output_type": "execute_result"
    }
   ],
   "execution_count": 76
  },
  {
   "cell_type": "markdown",
   "metadata": {},
   "source": [
    "Predykcje stałe - nic dziwnego, że błąd jest duży. Scikit-learn domyślnie stosuje lekką regularyzację dla wielu modeli, ale wartość ta może być zbyt duża.\n",
    "\n",
    "**Zadanie 8 (1 punkt)**\n",
    "\n",
    "Dokonaj tuningu siły regularyzacji dla LAD regression, sprawdzając 100 wartości z zakresu od 0 do `1e-3`. Wybierz model o najlepszym MAE z pomocą 5-fold CV. Zmierz czas tuningu, wypisz znalezione hiperparametry oraz sprawdź jakość finalnego modelu.\n",
    "\n",
    "Skomentuj różnicę czasową i jakościową względem modeli ridge i LASSO. Czy w tym przypadku warto wykorzystać regresję LAD?\n",
    "\n",
    "Przyda się `GridSearchCV` oraz parametr `n_jobs`."
   ]
  },
  {
   "metadata": {
    "ExecuteTime": {
     "end_time": "2025-04-11T00:10:00.373271Z",
     "start_time": "2025-04-11T00:00:00.971579Z"
    }
   },
   "cell_type": "code",
   "source": [
    "import numpy as np\n",
    "import time\n",
    "from sklearn.linear_model import QuantileRegressor\n",
    "from sklearn.model_selection import GridSearchCV\n",
    "from sklearn.metrics import mean_absolute_error, mean_squared_error\n",
    "\n",
    "\n",
    "alpha_grid = np.linspace(0, 1e-3, 100)\n",
    "param_grid = {\"alpha\": alpha_grid}\n",
    "\n",
    "reg_lad = QuantileRegressor(quantile=0.5)\n",
    "\n",
    "grid_search = GridSearchCV(\n",
    "    estimator=reg_lad,\n",
    "    param_grid=param_grid,\n",
    "    cv=5,\n",
    "    scoring=\"neg_mean_absolute_error\",\n",
    "    n_jobs=-1\n",
    ")\n",
    "\n",
    "start_time = time.time()\n",
    "grid_search.fit(X_train, y_train)\n",
    "tuning_time = time.time() - start_time\n",
    "\n",
    "best_alpha = grid_search.best_params_[\"alpha\"]\n",
    "print(\"LAD - optymalny alpha:\", best_alpha)\n",
    "print(\"LAD - najlepszy średni MAE (negatywna wartość):\", grid_search.best_score_)\n",
    "print(\"Czas tuningu LAD regression: {:.4f} sekund\".format(tuning_time))\n",
    "\n",
    "reg_lad_best = grid_search.best_estimator_\n",
    "\n",
    "y_pred_train_log = reg_lad_best.predict(X_train)\n",
    "y_pred_test_log = reg_lad_best.predict(X_test)\n",
    "\n",
    "y_train_orig = np.expm1(y_train)\n",
    "y_pred_train_orig = np.expm1(y_pred_train_log)\n",
    "y_test_orig = np.expm1(y_test)\n",
    "y_pred_test_orig = np.expm1(y_pred_test_log)\n",
    "\n",
    "lad_mae_train = mean_absolute_error(y_train_orig, y_pred_train_orig)\n",
    "lad_rmse_train = np.sqrt(mean_squared_error(y_train_orig, y_pred_train_orig))\n",
    "lad_mae_test  = mean_absolute_error(y_test_orig, y_pred_test_orig)\n",
    "lad_rmse_test  = np.sqrt(mean_squared_error(y_test_orig, y_pred_test_orig))\n",
    "\n",
    "print(\"LAD - Train MAE: {:.2f}, Train RMSE: {:.2f}\".format(lad_mae_train, lad_rmse_train))\n",
    "print(\"LAD - Test MAE: {:.2f}, Test RMSE: {:.2f}\".format(lad_mae_test, lad_rmse_test))\n"
   ],
   "outputs": [
    {
     "name": "stdout",
     "output_type": "stream",
     "text": [
      "LAD - optymalny alpha: 0.00047474747474747476\n",
      "LAD - najlepszy średni MAE (negatywna wartość): -0.07679731713686681\n",
      "Czas tuningu LAD regression: 599.3921 sekund\n",
      "LAD - Train MAE: 11649.58, Train RMSE: 18170.97\n",
      "LAD - Test MAE: 12371.05, Test RMSE: 18189.07\n"
     ]
    }
   ],
   "execution_count": 77
  },
  {
   "cell_type": "markdown",
   "metadata": {},
   "source": [
    "// skomentuj tutaj"
   ]
  },
  {
   "cell_type": "markdown",
   "metadata": {},
   "source": [
    "Zamiast używać regresji LAD, opartej o programowanie liniowe, można też wykorzystać Huber regression. Jest ono mało czuła zarówno na $\\epsilon$ (punkt przejścia z MSE do MAE), jak i $\\alpha$ (siłę regularyzacji L2), więc często nie wymaga tuningu hiperparametrów.\n",
    "\n",
    "**Zadanie 9 (0.5 punktu)**\n",
    "\n",
    "Wytrenuj model Huber regression. Sprawdź jakość modelu. Skomentuj różnicę czasową i jakościową względem LAD regression (tutaj oczywiście bez tuningu). Z którego modelu skorzystałbyś w praktyce?\n",
    "\n",
    "Domyślna liczba iteracji solwera, 100, jest zbyt mała dla naszej liczby cech, i będą z tego wynikać ostrzeżenia o braku zbieżności, więc zwiększ ją do 2000."
   ]
  },
  {
   "cell_type": "code",
   "metadata": {
    "ExecuteTime": {
     "end_time": "2025-04-11T00:10:19.722444Z",
     "start_time": "2025-04-11T00:10:19.019849Z"
    }
   },
   "source": [
    "import numpy as np\n",
    "import matplotlib.pyplot as plt\n",
    "from sklearn.linear_model import HuberRegressor\n",
    "from sklearn.metrics import mean_absolute_error, mean_squared_error\n",
    "\n",
    "reg_huber = HuberRegressor(max_iter=2000)\n",
    "\n",
    "start_time = time.time()\n",
    "reg_huber.fit(X_train, y_train)\n",
    "tuning_time = time.time() - start_time\n",
    "print(f\"czas: {tuning_time:.2f} s\")\n",
    "\n",
    "y_pred_train_huber = reg_huber.predict(X_train)\n",
    "y_pred_test_huber = reg_huber.predict(X_test)\n",
    "\n",
    "evaluate_model(y_train, y_test, y_pred_train_huber, y_pred_test_huber)"
   ],
   "outputs": [
    {
     "name": "stdout",
     "output_type": "stream",
     "text": [
      "czas: 0.70 s\n",
      "Train RMSE 18586.11, MAE: 11701.57\n",
      "Test  RMSE 17989.48, MAE: 12247.05\n"
     ]
    }
   ],
   "execution_count": 79
  },
  {
   "cell_type": "markdown",
   "metadata": {},
   "source": "Huber regression jest lepszym wyborem niz LAD regression."
  },
  {
   "cell_type": "markdown",
   "metadata": {},
   "source": [
    "## Use case, połączenie w system end-to-end"
   ]
  },
  {
   "cell_type": "markdown",
   "metadata": {},
   "source": [
    "Na rynku działa firma oferująca serwis do sprzedaży nieruchomości. CEO był na prezentacji o AI, zaczął używać ChatGPT i uznał, że też musicie mieć taki potężny ML. Zostałeś zatrudniony jako (pierwszy i jedyny) data scientist, zebrałeś historyczne dane, i nawet wdrożyłeś pierwszy model regresji liniowej do estymacji wartości nieruchomości.\n",
    "\n",
    "Pewnego dnia Product Owner przychodzi do ciebie z listą \"absolutnie krytycznych\" wymagań (propozycja nie do odrzucenia):\n",
    "1. Ciągle coś się sypie na produkcji, bo obecny pipeline do przetwarzania cech jest złożony z wielu kroków, które są copy-paste z twojego Jupyter Notebooka. Trzeba z tego zrobić jeden obiekt, zapisywać i wdrażać end-to-end.\n",
    "2. Nowe domy czasem mają ekstremalne wartości cech, których nie było w zbiorze treningowym, i na tych przypadkach model radzi sobie wystarczająco słabo. Może wystarczyłoby je jakoś przyciąć?\n",
    "3. Obecny model regresji liniowej działa w miarę ok, ale trzeba czegoś lepszego, co dawałoby lepsze MAE, bo większość klientów jest zainteresowana przeciętnie drogimi nieruchomościami.\n",
    "4. Sama przewidywana wartość nieruchomości to za mało, bo każdy wie, że ceny są zróżnicowane. Twoja regresja liniowa podaje tylko warunkową średnią, a zarówno sprzedający, jak i kupujący chcieliby znać sensowne górne i dolne widełki. Product Owner ze swojego doświadczenia sugeruje, że typowo takie wahania różnią się co najwyżej o 15 punktów procentowych w górę i dół od średniej ceny.\n",
    "\n",
    "**Zadanie 10 (4 punkty)**\n",
    "\n",
    "1. Połącz wszystkie wcześniejsze transformery dla zmiennych numerycznych i kategorycznych w jeden duży `ColumnTransformer`. Ma do niego wejść cale `X_train_raw`, a wyjść gotowy output.\n",
    "2. Przycinanie wartości do zakresu znanego ze zbioru treningowego nazywa się czasem **winsoryzacją (winsorization)**. Dodaj taki etap po skalowaniu min-max, a przed selekcją według korelacji. Przydatny będzie tutaj Feature-engine.\n",
    "3. Na podstawie wcześniejszych eksperymentów wybierz model do przewidywania własności domów. Wybór uzasadnij w komentarzu. W razie potrzeby dokonaj tuningu hiperparametrów. Zmierz jakość modelu.\n",
    "4. Wybierz i wytrenuj odpowiednie modele do regresji, żeby dostać estymację 35% i 65% ceny, w dodatku do przeciętnej ceny (estymowanej przez model z poprzedniego punktu). Dokonaj w razie potrzeby tuningu hiperparametrów. Metryką jakości może być tutaj [D^2 pinball score](d2_pinball_score), który ma wygodny zakres wartości $[0, 1]$ (dla dobrych modeli, im bliżej 1, tym lepiej). Podaj jakość finalnych modeli.\n",
    "5. Zapisz transformer do preprocessingu oraz estymatory do regresji do plików [z pomocą Jobliba](https://scikit-learn.org/stable/model_persistence.html): `ames_transformer.joblib`, `price_estimator.joblib`, `low_price_estimator.joblib`, `high_price_estimator.joblib`.\n",
    "\n",
    "Poniżej przygotowano funkcję testową, która ładuje transformer i estymatory, oraz oblicza predykcje dla trzech przykładowych domów ze zbioru testowego (taniego, przeciętnego i drogiego).\n",
    "\n",
    "Skomentuj - czy twoim zdaniem finalne modele, podające przeciętną wartość i widełki, są subiektywnie dobrej jakości?"
   ]
  },
  {
   "cell_type": "code",
   "metadata": {
    "ExecuteTime": {
     "end_time": "2025-04-11T00:40:39.272706Z",
     "start_time": "2025-04-11T00:20:36.729309Z"
    }
   },
   "source": [
    "from feature_engine.outliers import Winsorizer\n",
    "\n",
    "\n",
    "numeric_pipeline = Pipeline(steps=[\n",
    "    (\"imputer\", SimpleImputer(strategy=\"median\")),\n",
    "    (\"scaler\", MinMaxScaler()),\n",
    "    (\"winsorizer\", Winsorizer()),\n",
    "    (\"corr_selector\", SmartCorrelatedSelection(selection_method='variance', threshold=0.8, variables=None)),\n",
    "])\n",
    "\n",
    "categorical_pipeline = Pipeline(steps=[\n",
    "    (\"rare_encoder\", RareLabelEncoder(tol=0.01, n_categories=0, replace_with=\"Rare\")),\n",
    "    (\"one_hot\", OneHotEncoder(drop=\"first\", sparse_output=False))\n",
    "])\n",
    "\n",
    "preprocessor = ColumnTransformer(transformers=[\n",
    "    (\"num\", numeric_pipeline, numerical_features),\n",
    "    (\"cat\", categorical_pipeline, categorical_features)\n",
    "],\n",
    "verbose_feature_names_out=False)\n",
    "\n",
    "X_train = preprocessor.fit_transform(X_train_raw)\n",
    "X_test = preprocessor.transform(X_test_raw)\n",
    "\n",
    "\n",
    "reg_price = HuberRegressor(max_iter=2000)\n",
    "reg_price.fit(X_train, y_train)\n",
    "\n",
    "alpha_grid = np.linspace(0, 1e-3, 100)\n",
    "param_grid = {\"alpha\": alpha_grid}\n",
    "\n",
    "quantile_low = QuantileRegressor(quantile=0.35)\n",
    "grid_search_low = GridSearchCV(\n",
    "    estimator=quantile_low,\n",
    "    param_grid=param_grid,\n",
    "    cv=5,\n",
    "    scoring=\"neg_mean_absolute_error\",\n",
    "    n_jobs=-1\n",
    ")\n",
    "grid_search_low.fit(X_train, y_train)\n",
    "low_price_estimator = grid_search_low.best_estimator_\n",
    "print(\"Optymalny alpha dla estymacji 35%: \", grid_search_low.best_params_[\"alpha\"])\n",
    "\n",
    "quantile_high = QuantileRegressor(quantile=0.65)\n",
    "grid_search_high = GridSearchCV(\n",
    "    estimator=quantile_high,\n",
    "    param_grid=param_grid,\n",
    "    cv=5,\n",
    "    scoring=\"neg_mean_absolute_error\",\n",
    "    n_jobs=-1\n",
    ")\n",
    "grid_search_high.fit(X_train, y_train)\n",
    "high_price_estimator = grid_search_high.best_estimator_\n",
    "print(\"Optymalny alpha dla estymacji 65%: \", grid_search_high.best_params_[\"alpha\"])\n",
    "\n",
    "import joblib\n",
    "joblib.dump(preprocessor, \"ames_transformer.joblib\")\n",
    "joblib.dump(reg_price, \"price_estimator.joblib\")\n",
    "joblib.dump(low_price_estimator, \"low_price_estimator.joblib\")\n",
    "joblib.dump(high_price_estimator, \"high_price_estimator.joblib\")\n"
   ],
   "outputs": [
    {
     "name": "stdout",
     "output_type": "stream",
     "text": [
      "Optymalny alpha dla estymacji 35%:  0.0005858585858585859\n",
      "Optymalny alpha dla estymacji 65%:  0.0007575757575757576\n"
     ]
    },
    {
     "data": {
      "text/plain": [
       "['high_price_estimator.joblib']"
      ]
     },
     "execution_count": 81,
     "metadata": {},
     "output_type": "execute_result"
    }
   ],
   "execution_count": 81
  },
  {
   "cell_type": "code",
   "metadata": {
    "ExecuteTime": {
     "end_time": "2025-04-11T00:41:31.336381Z",
     "start_time": "2025-04-11T00:41:31.245388Z"
    }
   },
   "source": [
    "import joblib\n",
    "\n",
    "\n",
    "def test_models() -> None:\n",
    "    transformer = joblib.load(\"ames_transformer.joblib\")\n",
    "    price_reg = joblib.load(\"price_estimator.joblib\")\n",
    "    low_price_reg = joblib.load(\"low_price_estimator.joblib\")\n",
    "    high_price_reg = joblib.load(\"high_price_estimator.joblib\")\n",
    "\n",
    "    # select houses from test set around 25th, 50th and 75th percentile\n",
    "    prices = np.expm1(y_test).astype(int)\n",
    "\n",
    "    for price_type, quantile in [\n",
    "        (\"Cheap\", 0.25),\n",
    "        (\"Average\", 0.5),\n",
    "        (\"Expensive\", 0.75),\n",
    "    ]:\n",
    "        idx = prices[\n",
    "            prices == prices.quantile(quantile, interpolation=\"nearest\")\n",
    "        ].index[0]\n",
    "        X = X_test_raw.loc[idx].to_frame().T\n",
    "        y = prices[idx]\n",
    "\n",
    "        float_to_int = lambda x: int(np.round(np.expm1(x.item())))\n",
    "\n",
    "        X_transformed = transformer.transform(X)\n",
    "        y_pred = float_to_int(price_reg.predict(X_transformed))\n",
    "        y_low_pred = float_to_int(low_price_reg.predict(X_transformed))\n",
    "        y_high_pred = float_to_int(high_price_reg.predict(X_transformed))\n",
    "\n",
    "        print(f\"{price_type} house\")\n",
    "        print(f\"True price: {y}$\")\n",
    "        print(f\"Estimated price: {y_pred}\")\n",
    "        print(f\"Price brackets: {y_low_pred} - {y_high_pred}\")\n",
    "\n",
    "        print(\"Features:\")\n",
    "        with pd.option_context(\"display.max_columns\", None):\n",
    "            display(X)\n",
    "\n",
    "\n",
    "test_models()"
   ],
   "outputs": [
    {
     "name": "stdout",
     "output_type": "stream",
     "text": [
      "Cheap house\n",
      "True price: 127999$\n",
      "Estimated price: 133388\n",
      "Price brackets: 127249 - 140619\n",
      "Features:\n"
     ]
    },
    {
     "data": {
      "text/plain": [
       "    MSSubClass MSZoning LotFrontage LotArea Street Alley LotShape LandContour  \\\n",
       "195       SC50       RM        50.0    6000      2     0        4         Lvl   \n",
       "\n",
       "    Utilities LotConfig LandSlope Neighborhood Condition1 Condition2 BldgType  \\\n",
       "195         4    Inside         3      BrkSide       Norm       Norm     1Fam   \n",
       "\n",
       "    HouseStyle OverallQual OverallCond YearBuilt YearRemodAdd RoofStyle  \\\n",
       "195     1.5Fin           6           6      1940         1950     Gable   \n",
       "\n",
       "    RoofMatl Exterior1st Exterior2nd MasVnrType MasVnrArea ExterQual  \\\n",
       "195  CompShg     MetalSd     MetalSd       None        0.0         3   \n",
       "\n",
       "    ExterCond Foundation BsmtQual BsmtCond BsmtExposure BsmtFinType1  \\\n",
       "195         4     CBlock        3        3            0            2   \n",
       "\n",
       "    BsmtFinSF1 BsmtFinType2 BsmtFinSF2 BsmtUnfSF TotalBsmtSF Heating  \\\n",
       "195      264.0            1        0.0     308.0       572.0    GasA   \n",
       "\n",
       "    HeatingQC CentralAir Electrical X1stFlrSF X2ndFlrSF LowQualFinSF  \\\n",
       "195         5          Y      FuseA       848       348            0   \n",
       "\n",
       "    GrLivArea BsmtFullBath BsmtHalfBath FullBath HalfBath BedroomAbvGr  \\\n",
       "195      1196          0.0          1.0        1        1            3   \n",
       "\n",
       "    KitchenAbvGr KitchenQual TotRmsAbvGrd Functional Fireplaces FireplaceQu  \\\n",
       "195            1           3            6          8          2           4   \n",
       "\n",
       "    GarageType GarageYrBlt GarageFinish GarageCars GarageArea GarageQual  \\\n",
       "195     Detchd      1973.0          Unf        2.0      576.0          3   \n",
       "\n",
       "    GarageCond PavedDrive WoodDeckSF OpenPorchSF EnclosedPorch X3SsnPorch  \\\n",
       "195          3          2          0           0             0          0   \n",
       "\n",
       "    ScreenPorch PoolArea PoolQC Fence MiscFeature MiscVal MoSold YrSold  \\\n",
       "195           0        0      0    No          No       0    Mar   2010   \n",
       "\n",
       "    SaleType SaleCondition  \n",
       "195      WD         Normal  "
      ],
      "text/html": [
       "<div>\n",
       "<style scoped>\n",
       "    .dataframe tbody tr th:only-of-type {\n",
       "        vertical-align: middle;\n",
       "    }\n",
       "\n",
       "    .dataframe tbody tr th {\n",
       "        vertical-align: top;\n",
       "    }\n",
       "\n",
       "    .dataframe thead th {\n",
       "        text-align: right;\n",
       "    }\n",
       "</style>\n",
       "<table border=\"1\" class=\"dataframe\">\n",
       "  <thead>\n",
       "    <tr style=\"text-align: right;\">\n",
       "      <th></th>\n",
       "      <th>MSSubClass</th>\n",
       "      <th>MSZoning</th>\n",
       "      <th>LotFrontage</th>\n",
       "      <th>LotArea</th>\n",
       "      <th>Street</th>\n",
       "      <th>Alley</th>\n",
       "      <th>LotShape</th>\n",
       "      <th>LandContour</th>\n",
       "      <th>Utilities</th>\n",
       "      <th>LotConfig</th>\n",
       "      <th>LandSlope</th>\n",
       "      <th>Neighborhood</th>\n",
       "      <th>Condition1</th>\n",
       "      <th>Condition2</th>\n",
       "      <th>BldgType</th>\n",
       "      <th>HouseStyle</th>\n",
       "      <th>OverallQual</th>\n",
       "      <th>OverallCond</th>\n",
       "      <th>YearBuilt</th>\n",
       "      <th>YearRemodAdd</th>\n",
       "      <th>RoofStyle</th>\n",
       "      <th>RoofMatl</th>\n",
       "      <th>Exterior1st</th>\n",
       "      <th>Exterior2nd</th>\n",
       "      <th>MasVnrType</th>\n",
       "      <th>MasVnrArea</th>\n",
       "      <th>ExterQual</th>\n",
       "      <th>ExterCond</th>\n",
       "      <th>Foundation</th>\n",
       "      <th>BsmtQual</th>\n",
       "      <th>BsmtCond</th>\n",
       "      <th>BsmtExposure</th>\n",
       "      <th>BsmtFinType1</th>\n",
       "      <th>BsmtFinSF1</th>\n",
       "      <th>BsmtFinType2</th>\n",
       "      <th>BsmtFinSF2</th>\n",
       "      <th>BsmtUnfSF</th>\n",
       "      <th>TotalBsmtSF</th>\n",
       "      <th>Heating</th>\n",
       "      <th>HeatingQC</th>\n",
       "      <th>CentralAir</th>\n",
       "      <th>Electrical</th>\n",
       "      <th>X1stFlrSF</th>\n",
       "      <th>X2ndFlrSF</th>\n",
       "      <th>LowQualFinSF</th>\n",
       "      <th>GrLivArea</th>\n",
       "      <th>BsmtFullBath</th>\n",
       "      <th>BsmtHalfBath</th>\n",
       "      <th>FullBath</th>\n",
       "      <th>HalfBath</th>\n",
       "      <th>BedroomAbvGr</th>\n",
       "      <th>KitchenAbvGr</th>\n",
       "      <th>KitchenQual</th>\n",
       "      <th>TotRmsAbvGrd</th>\n",
       "      <th>Functional</th>\n",
       "      <th>Fireplaces</th>\n",
       "      <th>FireplaceQu</th>\n",
       "      <th>GarageType</th>\n",
       "      <th>GarageYrBlt</th>\n",
       "      <th>GarageFinish</th>\n",
       "      <th>GarageCars</th>\n",
       "      <th>GarageArea</th>\n",
       "      <th>GarageQual</th>\n",
       "      <th>GarageCond</th>\n",
       "      <th>PavedDrive</th>\n",
       "      <th>WoodDeckSF</th>\n",
       "      <th>OpenPorchSF</th>\n",
       "      <th>EnclosedPorch</th>\n",
       "      <th>X3SsnPorch</th>\n",
       "      <th>ScreenPorch</th>\n",
       "      <th>PoolArea</th>\n",
       "      <th>PoolQC</th>\n",
       "      <th>Fence</th>\n",
       "      <th>MiscFeature</th>\n",
       "      <th>MiscVal</th>\n",
       "      <th>MoSold</th>\n",
       "      <th>YrSold</th>\n",
       "      <th>SaleType</th>\n",
       "      <th>SaleCondition</th>\n",
       "    </tr>\n",
       "  </thead>\n",
       "  <tbody>\n",
       "    <tr>\n",
       "      <th>195</th>\n",
       "      <td>SC50</td>\n",
       "      <td>RM</td>\n",
       "      <td>50.0</td>\n",
       "      <td>6000</td>\n",
       "      <td>2</td>\n",
       "      <td>0</td>\n",
       "      <td>4</td>\n",
       "      <td>Lvl</td>\n",
       "      <td>4</td>\n",
       "      <td>Inside</td>\n",
       "      <td>3</td>\n",
       "      <td>BrkSide</td>\n",
       "      <td>Norm</td>\n",
       "      <td>Norm</td>\n",
       "      <td>1Fam</td>\n",
       "      <td>1.5Fin</td>\n",
       "      <td>6</td>\n",
       "      <td>6</td>\n",
       "      <td>1940</td>\n",
       "      <td>1950</td>\n",
       "      <td>Gable</td>\n",
       "      <td>CompShg</td>\n",
       "      <td>MetalSd</td>\n",
       "      <td>MetalSd</td>\n",
       "      <td>None</td>\n",
       "      <td>0.0</td>\n",
       "      <td>3</td>\n",
       "      <td>4</td>\n",
       "      <td>CBlock</td>\n",
       "      <td>3</td>\n",
       "      <td>3</td>\n",
       "      <td>0</td>\n",
       "      <td>2</td>\n",
       "      <td>264.0</td>\n",
       "      <td>1</td>\n",
       "      <td>0.0</td>\n",
       "      <td>308.0</td>\n",
       "      <td>572.0</td>\n",
       "      <td>GasA</td>\n",
       "      <td>5</td>\n",
       "      <td>Y</td>\n",
       "      <td>FuseA</td>\n",
       "      <td>848</td>\n",
       "      <td>348</td>\n",
       "      <td>0</td>\n",
       "      <td>1196</td>\n",
       "      <td>0.0</td>\n",
       "      <td>1.0</td>\n",
       "      <td>1</td>\n",
       "      <td>1</td>\n",
       "      <td>3</td>\n",
       "      <td>1</td>\n",
       "      <td>3</td>\n",
       "      <td>6</td>\n",
       "      <td>8</td>\n",
       "      <td>2</td>\n",
       "      <td>4</td>\n",
       "      <td>Detchd</td>\n",
       "      <td>1973.0</td>\n",
       "      <td>Unf</td>\n",
       "      <td>2.0</td>\n",
       "      <td>576.0</td>\n",
       "      <td>3</td>\n",
       "      <td>3</td>\n",
       "      <td>2</td>\n",
       "      <td>0</td>\n",
       "      <td>0</td>\n",
       "      <td>0</td>\n",
       "      <td>0</td>\n",
       "      <td>0</td>\n",
       "      <td>0</td>\n",
       "      <td>0</td>\n",
       "      <td>No</td>\n",
       "      <td>No</td>\n",
       "      <td>0</td>\n",
       "      <td>Mar</td>\n",
       "      <td>2010</td>\n",
       "      <td>WD</td>\n",
       "      <td>Normal</td>\n",
       "    </tr>\n",
       "  </tbody>\n",
       "</table>\n",
       "</div>"
      ]
     },
     "metadata": {},
     "output_type": "display_data"
    },
    {
     "name": "stdout",
     "output_type": "stream",
     "text": [
      "Average house\n",
      "True price: 157999$\n",
      "Estimated price: 151871\n",
      "Price brackets: 146643 - 153885\n",
      "Features:\n"
     ]
    },
    {
     "data": {
      "text/plain": [
       "     MSSubClass MSZoning LotFrontage LotArea Street Alley LotShape  \\\n",
       "2538       SC80       RL        80.0    9600      2     0        4   \n",
       "\n",
       "     LandContour Utilities LotConfig LandSlope Neighborhood Condition1  \\\n",
       "2538         Lvl         4    Inside         3        NAmes       Norm   \n",
       "\n",
       "     Condition2 BldgType HouseStyle OverallQual OverallCond YearBuilt  \\\n",
       "2538       Norm     1Fam       SLvl           5           7      1967   \n",
       "\n",
       "     YearRemodAdd RoofStyle RoofMatl Exterior1st Exterior2nd MasVnrType  \\\n",
       "2538         1967     Gable  CompShg     MetalSd     MetalSd    BrkFace   \n",
       "\n",
       "     MasVnrArea ExterQual ExterCond Foundation BsmtQual BsmtCond BsmtExposure  \\\n",
       "2538      140.0         3         3      PConc        3        3            2   \n",
       "\n",
       "     BsmtFinType1 BsmtFinSF1 BsmtFinType2 BsmtFinSF2 BsmtUnfSF TotalBsmtSF  \\\n",
       "2538            5      602.0            3      402.0     137.0      1141.0   \n",
       "\n",
       "     Heating HeatingQC CentralAir Electrical X1stFlrSF X2ndFlrSF LowQualFinSF  \\\n",
       "2538    GasA         4          Y      SBrkr      1141         0            0   \n",
       "\n",
       "     GrLivArea BsmtFullBath BsmtHalfBath FullBath HalfBath BedroomAbvGr  \\\n",
       "2538      1141          1.0          0.0        1        0            3   \n",
       "\n",
       "     KitchenAbvGr KitchenQual TotRmsAbvGrd Functional Fireplaces FireplaceQu  \\\n",
       "2538            1           3            6          8          0           0   \n",
       "\n",
       "     GarageType GarageYrBlt GarageFinish GarageCars GarageArea GarageQual  \\\n",
       "2538     Attchd      1967.0          Unf        1.0      568.0          3   \n",
       "\n",
       "     GarageCond PavedDrive WoodDeckSF OpenPorchSF EnclosedPorch X3SsnPorch  \\\n",
       "2538          3          2          0          78             0          0   \n",
       "\n",
       "     ScreenPorch PoolArea PoolQC Fence MiscFeature MiscVal MoSold YrSold  \\\n",
       "2538           0        0      0    No          No       0    Jul   2006   \n",
       "\n",
       "     SaleType SaleCondition  \n",
       "2538      WD         Normal  "
      ],
      "text/html": [
       "<div>\n",
       "<style scoped>\n",
       "    .dataframe tbody tr th:only-of-type {\n",
       "        vertical-align: middle;\n",
       "    }\n",
       "\n",
       "    .dataframe tbody tr th {\n",
       "        vertical-align: top;\n",
       "    }\n",
       "\n",
       "    .dataframe thead th {\n",
       "        text-align: right;\n",
       "    }\n",
       "</style>\n",
       "<table border=\"1\" class=\"dataframe\">\n",
       "  <thead>\n",
       "    <tr style=\"text-align: right;\">\n",
       "      <th></th>\n",
       "      <th>MSSubClass</th>\n",
       "      <th>MSZoning</th>\n",
       "      <th>LotFrontage</th>\n",
       "      <th>LotArea</th>\n",
       "      <th>Street</th>\n",
       "      <th>Alley</th>\n",
       "      <th>LotShape</th>\n",
       "      <th>LandContour</th>\n",
       "      <th>Utilities</th>\n",
       "      <th>LotConfig</th>\n",
       "      <th>LandSlope</th>\n",
       "      <th>Neighborhood</th>\n",
       "      <th>Condition1</th>\n",
       "      <th>Condition2</th>\n",
       "      <th>BldgType</th>\n",
       "      <th>HouseStyle</th>\n",
       "      <th>OverallQual</th>\n",
       "      <th>OverallCond</th>\n",
       "      <th>YearBuilt</th>\n",
       "      <th>YearRemodAdd</th>\n",
       "      <th>RoofStyle</th>\n",
       "      <th>RoofMatl</th>\n",
       "      <th>Exterior1st</th>\n",
       "      <th>Exterior2nd</th>\n",
       "      <th>MasVnrType</th>\n",
       "      <th>MasVnrArea</th>\n",
       "      <th>ExterQual</th>\n",
       "      <th>ExterCond</th>\n",
       "      <th>Foundation</th>\n",
       "      <th>BsmtQual</th>\n",
       "      <th>BsmtCond</th>\n",
       "      <th>BsmtExposure</th>\n",
       "      <th>BsmtFinType1</th>\n",
       "      <th>BsmtFinSF1</th>\n",
       "      <th>BsmtFinType2</th>\n",
       "      <th>BsmtFinSF2</th>\n",
       "      <th>BsmtUnfSF</th>\n",
       "      <th>TotalBsmtSF</th>\n",
       "      <th>Heating</th>\n",
       "      <th>HeatingQC</th>\n",
       "      <th>CentralAir</th>\n",
       "      <th>Electrical</th>\n",
       "      <th>X1stFlrSF</th>\n",
       "      <th>X2ndFlrSF</th>\n",
       "      <th>LowQualFinSF</th>\n",
       "      <th>GrLivArea</th>\n",
       "      <th>BsmtFullBath</th>\n",
       "      <th>BsmtHalfBath</th>\n",
       "      <th>FullBath</th>\n",
       "      <th>HalfBath</th>\n",
       "      <th>BedroomAbvGr</th>\n",
       "      <th>KitchenAbvGr</th>\n",
       "      <th>KitchenQual</th>\n",
       "      <th>TotRmsAbvGrd</th>\n",
       "      <th>Functional</th>\n",
       "      <th>Fireplaces</th>\n",
       "      <th>FireplaceQu</th>\n",
       "      <th>GarageType</th>\n",
       "      <th>GarageYrBlt</th>\n",
       "      <th>GarageFinish</th>\n",
       "      <th>GarageCars</th>\n",
       "      <th>GarageArea</th>\n",
       "      <th>GarageQual</th>\n",
       "      <th>GarageCond</th>\n",
       "      <th>PavedDrive</th>\n",
       "      <th>WoodDeckSF</th>\n",
       "      <th>OpenPorchSF</th>\n",
       "      <th>EnclosedPorch</th>\n",
       "      <th>X3SsnPorch</th>\n",
       "      <th>ScreenPorch</th>\n",
       "      <th>PoolArea</th>\n",
       "      <th>PoolQC</th>\n",
       "      <th>Fence</th>\n",
       "      <th>MiscFeature</th>\n",
       "      <th>MiscVal</th>\n",
       "      <th>MoSold</th>\n",
       "      <th>YrSold</th>\n",
       "      <th>SaleType</th>\n",
       "      <th>SaleCondition</th>\n",
       "    </tr>\n",
       "  </thead>\n",
       "  <tbody>\n",
       "    <tr>\n",
       "      <th>2538</th>\n",
       "      <td>SC80</td>\n",
       "      <td>RL</td>\n",
       "      <td>80.0</td>\n",
       "      <td>9600</td>\n",
       "      <td>2</td>\n",
       "      <td>0</td>\n",
       "      <td>4</td>\n",
       "      <td>Lvl</td>\n",
       "      <td>4</td>\n",
       "      <td>Inside</td>\n",
       "      <td>3</td>\n",
       "      <td>NAmes</td>\n",
       "      <td>Norm</td>\n",
       "      <td>Norm</td>\n",
       "      <td>1Fam</td>\n",
       "      <td>SLvl</td>\n",
       "      <td>5</td>\n",
       "      <td>7</td>\n",
       "      <td>1967</td>\n",
       "      <td>1967</td>\n",
       "      <td>Gable</td>\n",
       "      <td>CompShg</td>\n",
       "      <td>MetalSd</td>\n",
       "      <td>MetalSd</td>\n",
       "      <td>BrkFace</td>\n",
       "      <td>140.0</td>\n",
       "      <td>3</td>\n",
       "      <td>3</td>\n",
       "      <td>PConc</td>\n",
       "      <td>3</td>\n",
       "      <td>3</td>\n",
       "      <td>2</td>\n",
       "      <td>5</td>\n",
       "      <td>602.0</td>\n",
       "      <td>3</td>\n",
       "      <td>402.0</td>\n",
       "      <td>137.0</td>\n",
       "      <td>1141.0</td>\n",
       "      <td>GasA</td>\n",
       "      <td>4</td>\n",
       "      <td>Y</td>\n",
       "      <td>SBrkr</td>\n",
       "      <td>1141</td>\n",
       "      <td>0</td>\n",
       "      <td>0</td>\n",
       "      <td>1141</td>\n",
       "      <td>1.0</td>\n",
       "      <td>0.0</td>\n",
       "      <td>1</td>\n",
       "      <td>0</td>\n",
       "      <td>3</td>\n",
       "      <td>1</td>\n",
       "      <td>3</td>\n",
       "      <td>6</td>\n",
       "      <td>8</td>\n",
       "      <td>0</td>\n",
       "      <td>0</td>\n",
       "      <td>Attchd</td>\n",
       "      <td>1967.0</td>\n",
       "      <td>Unf</td>\n",
       "      <td>1.0</td>\n",
       "      <td>568.0</td>\n",
       "      <td>3</td>\n",
       "      <td>3</td>\n",
       "      <td>2</td>\n",
       "      <td>0</td>\n",
       "      <td>78</td>\n",
       "      <td>0</td>\n",
       "      <td>0</td>\n",
       "      <td>0</td>\n",
       "      <td>0</td>\n",
       "      <td>0</td>\n",
       "      <td>No</td>\n",
       "      <td>No</td>\n",
       "      <td>0</td>\n",
       "      <td>Jul</td>\n",
       "      <td>2006</td>\n",
       "      <td>WD</td>\n",
       "      <td>Normal</td>\n",
       "    </tr>\n",
       "  </tbody>\n",
       "</table>\n",
       "</div>"
      ]
     },
     "metadata": {},
     "output_type": "display_data"
    },
    {
     "name": "stdout",
     "output_type": "stream",
     "text": [
      "Expensive house\n",
      "True price: 209499$\n",
      "Estimated price: 190679\n",
      "Price brackets: 184904 - 201321\n",
      "Features:\n"
     ]
    },
    {
     "data": {
      "text/plain": [
       "    MSSubClass MSZoning LotFrontage LotArea Street Alley LotShape LandContour  \\\n",
       "192       SC75       RL         0.0    7793      2     0        3         Bnk   \n",
       "\n",
       "    Utilities LotConfig LandSlope Neighborhood Condition1 Condition2 BldgType  \\\n",
       "192         4    Corner         3      BrkSide       Norm       Norm     1Fam   \n",
       "\n",
       "    HouseStyle OverallQual OverallCond YearBuilt YearRemodAdd RoofStyle  \\\n",
       "192     2.5Unf           7           7      1922         2005     Gable   \n",
       "\n",
       "    RoofMatl Exterior1st Exterior2nd MasVnrType MasVnrArea ExterQual  \\\n",
       "192  CompShg     Wd Sdng     Wd Sdng       None        0.0         3   \n",
       "\n",
       "    ExterCond Foundation BsmtQual BsmtCond BsmtExposure BsmtFinType1  \\\n",
       "192         3     BrkTil        4        3            0            4   \n",
       "\n",
       "    BsmtFinSF1 BsmtFinType2 BsmtFinSF2 BsmtUnfSF TotalBsmtSF Heating  \\\n",
       "192      474.0            1        0.0     634.0      1108.0    GasA   \n",
       "\n",
       "    HeatingQC CentralAir Electrical X1stFlrSF X2ndFlrSF LowQualFinSF  \\\n",
       "192         3          N      FuseA      1160       908            0   \n",
       "\n",
       "    GrLivArea BsmtFullBath BsmtHalfBath FullBath HalfBath BedroomAbvGr  \\\n",
       "192      2068          0.0          0.0        1        1            3   \n",
       "\n",
       "    KitchenAbvGr KitchenQual TotRmsAbvGrd Functional Fireplaces FireplaceQu  \\\n",
       "192            1           4            8          8          1           4   \n",
       "\n",
       "    GarageType GarageYrBlt GarageFinish GarageCars GarageArea GarageQual  \\\n",
       "192     Detchd      1928.0          Unf        1.0      315.0          3   \n",
       "\n",
       "    GarageCond PavedDrive WoodDeckSF OpenPorchSF EnclosedPorch X3SsnPorch  \\\n",
       "192          3          2          0           0            60          0   \n",
       "\n",
       "    ScreenPorch PoolArea PoolQC Fence MiscFeature MiscVal MoSold YrSold  \\\n",
       "192           0        0      0    No          No       0    May   2010   \n",
       "\n",
       "    SaleType SaleCondition  \n",
       "192      WD         Normal  "
      ],
      "text/html": [
       "<div>\n",
       "<style scoped>\n",
       "    .dataframe tbody tr th:only-of-type {\n",
       "        vertical-align: middle;\n",
       "    }\n",
       "\n",
       "    .dataframe tbody tr th {\n",
       "        vertical-align: top;\n",
       "    }\n",
       "\n",
       "    .dataframe thead th {\n",
       "        text-align: right;\n",
       "    }\n",
       "</style>\n",
       "<table border=\"1\" class=\"dataframe\">\n",
       "  <thead>\n",
       "    <tr style=\"text-align: right;\">\n",
       "      <th></th>\n",
       "      <th>MSSubClass</th>\n",
       "      <th>MSZoning</th>\n",
       "      <th>LotFrontage</th>\n",
       "      <th>LotArea</th>\n",
       "      <th>Street</th>\n",
       "      <th>Alley</th>\n",
       "      <th>LotShape</th>\n",
       "      <th>LandContour</th>\n",
       "      <th>Utilities</th>\n",
       "      <th>LotConfig</th>\n",
       "      <th>LandSlope</th>\n",
       "      <th>Neighborhood</th>\n",
       "      <th>Condition1</th>\n",
       "      <th>Condition2</th>\n",
       "      <th>BldgType</th>\n",
       "      <th>HouseStyle</th>\n",
       "      <th>OverallQual</th>\n",
       "      <th>OverallCond</th>\n",
       "      <th>YearBuilt</th>\n",
       "      <th>YearRemodAdd</th>\n",
       "      <th>RoofStyle</th>\n",
       "      <th>RoofMatl</th>\n",
       "      <th>Exterior1st</th>\n",
       "      <th>Exterior2nd</th>\n",
       "      <th>MasVnrType</th>\n",
       "      <th>MasVnrArea</th>\n",
       "      <th>ExterQual</th>\n",
       "      <th>ExterCond</th>\n",
       "      <th>Foundation</th>\n",
       "      <th>BsmtQual</th>\n",
       "      <th>BsmtCond</th>\n",
       "      <th>BsmtExposure</th>\n",
       "      <th>BsmtFinType1</th>\n",
       "      <th>BsmtFinSF1</th>\n",
       "      <th>BsmtFinType2</th>\n",
       "      <th>BsmtFinSF2</th>\n",
       "      <th>BsmtUnfSF</th>\n",
       "      <th>TotalBsmtSF</th>\n",
       "      <th>Heating</th>\n",
       "      <th>HeatingQC</th>\n",
       "      <th>CentralAir</th>\n",
       "      <th>Electrical</th>\n",
       "      <th>X1stFlrSF</th>\n",
       "      <th>X2ndFlrSF</th>\n",
       "      <th>LowQualFinSF</th>\n",
       "      <th>GrLivArea</th>\n",
       "      <th>BsmtFullBath</th>\n",
       "      <th>BsmtHalfBath</th>\n",
       "      <th>FullBath</th>\n",
       "      <th>HalfBath</th>\n",
       "      <th>BedroomAbvGr</th>\n",
       "      <th>KitchenAbvGr</th>\n",
       "      <th>KitchenQual</th>\n",
       "      <th>TotRmsAbvGrd</th>\n",
       "      <th>Functional</th>\n",
       "      <th>Fireplaces</th>\n",
       "      <th>FireplaceQu</th>\n",
       "      <th>GarageType</th>\n",
       "      <th>GarageYrBlt</th>\n",
       "      <th>GarageFinish</th>\n",
       "      <th>GarageCars</th>\n",
       "      <th>GarageArea</th>\n",
       "      <th>GarageQual</th>\n",
       "      <th>GarageCond</th>\n",
       "      <th>PavedDrive</th>\n",
       "      <th>WoodDeckSF</th>\n",
       "      <th>OpenPorchSF</th>\n",
       "      <th>EnclosedPorch</th>\n",
       "      <th>X3SsnPorch</th>\n",
       "      <th>ScreenPorch</th>\n",
       "      <th>PoolArea</th>\n",
       "      <th>PoolQC</th>\n",
       "      <th>Fence</th>\n",
       "      <th>MiscFeature</th>\n",
       "      <th>MiscVal</th>\n",
       "      <th>MoSold</th>\n",
       "      <th>YrSold</th>\n",
       "      <th>SaleType</th>\n",
       "      <th>SaleCondition</th>\n",
       "    </tr>\n",
       "  </thead>\n",
       "  <tbody>\n",
       "    <tr>\n",
       "      <th>192</th>\n",
       "      <td>SC75</td>\n",
       "      <td>RL</td>\n",
       "      <td>0.0</td>\n",
       "      <td>7793</td>\n",
       "      <td>2</td>\n",
       "      <td>0</td>\n",
       "      <td>3</td>\n",
       "      <td>Bnk</td>\n",
       "      <td>4</td>\n",
       "      <td>Corner</td>\n",
       "      <td>3</td>\n",
       "      <td>BrkSide</td>\n",
       "      <td>Norm</td>\n",
       "      <td>Norm</td>\n",
       "      <td>1Fam</td>\n",
       "      <td>2.5Unf</td>\n",
       "      <td>7</td>\n",
       "      <td>7</td>\n",
       "      <td>1922</td>\n",
       "      <td>2005</td>\n",
       "      <td>Gable</td>\n",
       "      <td>CompShg</td>\n",
       "      <td>Wd Sdng</td>\n",
       "      <td>Wd Sdng</td>\n",
       "      <td>None</td>\n",
       "      <td>0.0</td>\n",
       "      <td>3</td>\n",
       "      <td>3</td>\n",
       "      <td>BrkTil</td>\n",
       "      <td>4</td>\n",
       "      <td>3</td>\n",
       "      <td>0</td>\n",
       "      <td>4</td>\n",
       "      <td>474.0</td>\n",
       "      <td>1</td>\n",
       "      <td>0.0</td>\n",
       "      <td>634.0</td>\n",
       "      <td>1108.0</td>\n",
       "      <td>GasA</td>\n",
       "      <td>3</td>\n",
       "      <td>N</td>\n",
       "      <td>FuseA</td>\n",
       "      <td>1160</td>\n",
       "      <td>908</td>\n",
       "      <td>0</td>\n",
       "      <td>2068</td>\n",
       "      <td>0.0</td>\n",
       "      <td>0.0</td>\n",
       "      <td>1</td>\n",
       "      <td>1</td>\n",
       "      <td>3</td>\n",
       "      <td>1</td>\n",
       "      <td>4</td>\n",
       "      <td>8</td>\n",
       "      <td>8</td>\n",
       "      <td>1</td>\n",
       "      <td>4</td>\n",
       "      <td>Detchd</td>\n",
       "      <td>1928.0</td>\n",
       "      <td>Unf</td>\n",
       "      <td>1.0</td>\n",
       "      <td>315.0</td>\n",
       "      <td>3</td>\n",
       "      <td>3</td>\n",
       "      <td>2</td>\n",
       "      <td>0</td>\n",
       "      <td>0</td>\n",
       "      <td>60</td>\n",
       "      <td>0</td>\n",
       "      <td>0</td>\n",
       "      <td>0</td>\n",
       "      <td>0</td>\n",
       "      <td>No</td>\n",
       "      <td>No</td>\n",
       "      <td>0</td>\n",
       "      <td>May</td>\n",
       "      <td>2010</td>\n",
       "      <td>WD</td>\n",
       "      <td>Normal</td>\n",
       "    </tr>\n",
       "  </tbody>\n",
       "</table>\n",
       "</div>"
      ]
     },
     "metadata": {},
     "output_type": "display_data"
    }
   ],
   "execution_count": 82
  },
  {
   "cell_type": "markdown",
   "metadata": {},
   "source": ""
  },
  {
   "cell_type": "markdown",
   "metadata": {},
   "source": [
    "## Zadanie dodatkowe (3 punkty)"
   ]
  },
  {
   "cell_type": "markdown",
   "metadata": {},
   "source": [
    "Product Owner przychodzi do ciebie ponownie. Klienci skarżą się, że nie rozumieją, czemu model przewiduje taką, a nie inną wartość dla ich domu. Przykładowo, jeżeli to ogólny stan domu (`OverallCond`) czy garażu (`GarageCond`) obniżają cenę, to byliby gotowi je wyremontować dla lepszego zysku.\n",
    "\n",
    "Jest to problem **wyjaśnialnego AI (Explainable AI, XAI)**. O ile cały model w przypadku regresji liniowej jest bardzo transparentny dzięki wagom cech i liniowym predykcjom, to już zrozumienie, czemu dana predykcja była taka, a nie inna, to już problem **lokalnej wyjaśnialności (local explainability)**, gdzie tłumaczymy pojedynczą predykcję, dla danego zestawu cech.\n",
    "\n",
    "Najpopularniejszym algorytmem jest tutaj **SHapley Additive Explanations (SHAP)**. Opiera się on o tzw. wartości Shapleya, mające bardzo solidne podstawy w kooperatywnej teorii gier. Opiera się na idei, że wartości cech grają w grę: jedne obniżają predykcję, a drugie podwyższają, a finalna predykcja modelu to ich konsekwencja. Każda cecha to gracz, ale jedna wnosi więcej, a inna mniej. Idea algorytmu SHAP to uznanie, że \"wartościowi gracze\" to wpływowe cechy, które mocno przyczyniły się do danej decyzji modelu.\n",
    "\n",
    "Obliczanie wartości Shapleya w ogólnym przypadku ma złożoność eksponencjalną. Algorytm SHAP zaproponował efektywne ich przybliżanie dla dowolnych algorytmów ML. Dla niektórych klas modeli, przede wszystkim liniowych oraz drzewiastych, istnieją szczególnie efektywne metody, które w czasie wielomianowym obliczają dokładne wartości Shapleya. Wyjaśnienia, jak działa SHAP: [link 1](https://www.youtube.com/watch?v=9haIOplEIGM), [link 2](https://www.youtube.com/watch?v=VB9uV-x0gtg), [link 3](https://www.youtube.com/watch?v=0yXtdkIL3Xk).\n",
    "\n",
    "Z pomocą biblioteki `shap` oblicz wartości Shapleya dla przykładowych domów z ostatniego zadania i wyświetl je na tzw. force plot. Przyda ci się tutaj `LinearExplainer` ([dokumentacja](https://shap.readthedocs.io/en/latest/generated/shap.LinearExplainer.html#shap.LinearExplainer)) oraz `plots.force()` ([dokumentacja](https://shap.readthedocs.io/en/latest/generated/shap.plots.force.html)).\n",
    "\n",
    "Porównaj ze sobą dwie metody estymacji: \"interventional\" oraz \"correlation_dependent\" (opisane w dokumentacji). Możesz je zaimplementować za pomocą `maskers.Independent` oraz `maskers.Impute`. Jako zbiór do porównania (tzw. background samples) użyj całego zbioru treningowego.\n",
    "\n",
    "Skomentuj, czy wyjaśnienia mają twoim zdaniem sens i czy są intuicyjne. Która metoda estymacji daje subiektywnie lepsze wyniki?"
   ]
  },
  {
   "cell_type": "code",
   "execution_count": null,
   "metadata": {},
   "outputs": [],
   "source": []
  }
 ],
 "metadata": {
  "kernelspec": {
   "display_name": "Python 3 (ipykernel)",
   "language": "python",
   "name": "python3"
  },
  "language_info": {
   "codemirror_mode": {
    "name": "ipython",
    "version": 3
   },
   "file_extension": ".py",
   "mimetype": "text/x-python",
   "name": "python",
   "nbconvert_exporter": "python",
   "pygments_lexer": "ipython3",
   "version": "3.12.3"
  }
 },
 "nbformat": 4,
 "nbformat_minor": 4
}
